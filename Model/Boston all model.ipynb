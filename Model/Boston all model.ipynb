{
 "cells": [
  {
   "cell_type": "markdown",
   "metadata": {},
   "source": [
    "<hr/>\n",
    "[**Tolgahan Cepel**](https://www.kaggle.com/tolgahancepel)\n",
    "<hr/>\n",
    "<font color=green>\n",
    "1. [Overview](#1)\n",
    "1. [Importing Libraries and Reading the Dataset](#2)\n",
    "1. [Data Analysis](#3) \n",
    "    * [Data Preprocessing](#4) \n",
    "    * [Visualizing Data](#5) \n",
    "1. [Regression Models](#6) \n",
    "    * [Linear Regression](#7) \n",
    "    * [Polynomial Regression - 2nd degree](#8)\n",
    "    * [Ridge Regression](#9)\n",
    "    * [Lasso Regression](#10)\n",
    "    * [Support Vector Regression](#11)\n",
    "    * [Decision Tree Regression](#12) \n",
    "    * [Random Forest Regression](#13)\n",
    "1. [Measuring the Error](#14)\n",
    "    * [Visualizing Models Performance](#15)\n",
    "1. [Conclusion](#16)\n",
    "<hr/>"
   ]
  },
  {
   "cell_type": "markdown",
   "metadata": {},
   "source": [
    "## <span id=\"1\"></span> ** 1. Overview **"
   ]
  },
  {
   "cell_type": "markdown",
   "metadata": {},
   "source": [
    "Columns:\n",
    "- **CRIM: ** Per capita crime rate by town\n",
    "- **ZN: ** Proportion of residential land zoned for lots over 25,000 sq. ft\n",
    "- **INDUS: ** Proportion of non-retail business acres per town\n",
    "- **CHAS : ** Charles River dummy variable (1 if tract bounds river; 0 otherwise)\n",
    "- **NOX: ** Nitric oxide concentration (parts per 10 million)\n",
    "- **RM: ** Average number of rooms per dwelling\n",
    "- **AGE: ** Proportion of owner-occupied units built prior to 1940\n",
    "- **DIS: ** Weighted distances to five Boston employment centers\n",
    "- **RAD: ** Index of accessibility to radial highways\n",
    "- **PTRATIO: ** Pupil-teacher ratio by town\n",
    "- **B: ** 1000(Bk — 0.63)², where Bk is the proportion of [people of African American descent] by town\n",
    "- **LSTAT: ** Percentage of lower status of the population\n",
    "- **MEDV: ** Median value of owner-occupied homes in $1000s"
   ]
  },
  {
   "cell_type": "markdown",
   "metadata": {},
   "source": [
    "## <span id=\"2\"></span> ** 2. Importing Libraries and Reading the Dataset **"
   ]
  },
  {
   "cell_type": "code",
   "execution_count": 2,
   "metadata": {
    "_cell_guid": "b1076dfc-b9ad-4769-8c92-a6c4dae69d19",
    "_uuid": "8f2839f25d086af736a60e9eeb907d3b93b6e0e5"
   },
   "outputs": [],
   "source": [
    "import numpy as np\n",
    "import pandas as pd\n",
    "import matplotlib.pyplot as plt\n",
    "import seaborn as sns\n",
    "from sklearn.metrics import mean_squared_error\n",
    "from sklearn.model_selection import cross_val_score\n",
    "from collections import Counter\n",
    "from IPython.core.display import display, HTML\n",
    "sns.set_style('darkgrid')"
   ]
  },
  {
   "cell_type": "code",
   "execution_count": 3,
   "metadata": {},
   "outputs": [],
   "source": [
    "from sklearn.datasets import load_boston\n",
    "boston_dataset = load_boston()\n",
    "dataset = pd.DataFrame(boston_dataset.data, columns = boston_dataset.feature_names)"
   ]
  },
  {
   "cell_type": "code",
   "execution_count": 4,
   "metadata": {},
   "outputs": [
    {
     "data": {
      "text/html": [
       "<div>\n",
       "<style scoped>\n",
       "    .dataframe tbody tr th:only-of-type {\n",
       "        vertical-align: middle;\n",
       "    }\n",
       "\n",
       "    .dataframe tbody tr th {\n",
       "        vertical-align: top;\n",
       "    }\n",
       "\n",
       "    .dataframe thead th {\n",
       "        text-align: right;\n",
       "    }\n",
       "</style>\n",
       "<table border=\"1\" class=\"dataframe\">\n",
       "  <thead>\n",
       "    <tr style=\"text-align: right;\">\n",
       "      <th></th>\n",
       "      <th>CRIM</th>\n",
       "      <th>ZN</th>\n",
       "      <th>INDUS</th>\n",
       "      <th>CHAS</th>\n",
       "      <th>NOX</th>\n",
       "      <th>RM</th>\n",
       "      <th>AGE</th>\n",
       "      <th>DIS</th>\n",
       "      <th>RAD</th>\n",
       "      <th>TAX</th>\n",
       "      <th>PTRATIO</th>\n",
       "      <th>B</th>\n",
       "      <th>LSTAT</th>\n",
       "    </tr>\n",
       "  </thead>\n",
       "  <tbody>\n",
       "    <tr>\n",
       "      <th>0</th>\n",
       "      <td>0.00632</td>\n",
       "      <td>18.0</td>\n",
       "      <td>2.31</td>\n",
       "      <td>0.0</td>\n",
       "      <td>0.538</td>\n",
       "      <td>6.575</td>\n",
       "      <td>65.2</td>\n",
       "      <td>4.0900</td>\n",
       "      <td>1.0</td>\n",
       "      <td>296.0</td>\n",
       "      <td>15.3</td>\n",
       "      <td>396.90</td>\n",
       "      <td>4.98</td>\n",
       "    </tr>\n",
       "    <tr>\n",
       "      <th>1</th>\n",
       "      <td>0.02731</td>\n",
       "      <td>0.0</td>\n",
       "      <td>7.07</td>\n",
       "      <td>0.0</td>\n",
       "      <td>0.469</td>\n",
       "      <td>6.421</td>\n",
       "      <td>78.9</td>\n",
       "      <td>4.9671</td>\n",
       "      <td>2.0</td>\n",
       "      <td>242.0</td>\n",
       "      <td>17.8</td>\n",
       "      <td>396.90</td>\n",
       "      <td>9.14</td>\n",
       "    </tr>\n",
       "    <tr>\n",
       "      <th>2</th>\n",
       "      <td>0.02729</td>\n",
       "      <td>0.0</td>\n",
       "      <td>7.07</td>\n",
       "      <td>0.0</td>\n",
       "      <td>0.469</td>\n",
       "      <td>7.185</td>\n",
       "      <td>61.1</td>\n",
       "      <td>4.9671</td>\n",
       "      <td>2.0</td>\n",
       "      <td>242.0</td>\n",
       "      <td>17.8</td>\n",
       "      <td>392.83</td>\n",
       "      <td>4.03</td>\n",
       "    </tr>\n",
       "    <tr>\n",
       "      <th>3</th>\n",
       "      <td>0.03237</td>\n",
       "      <td>0.0</td>\n",
       "      <td>2.18</td>\n",
       "      <td>0.0</td>\n",
       "      <td>0.458</td>\n",
       "      <td>6.998</td>\n",
       "      <td>45.8</td>\n",
       "      <td>6.0622</td>\n",
       "      <td>3.0</td>\n",
       "      <td>222.0</td>\n",
       "      <td>18.7</td>\n",
       "      <td>394.63</td>\n",
       "      <td>2.94</td>\n",
       "    </tr>\n",
       "    <tr>\n",
       "      <th>4</th>\n",
       "      <td>0.06905</td>\n",
       "      <td>0.0</td>\n",
       "      <td>2.18</td>\n",
       "      <td>0.0</td>\n",
       "      <td>0.458</td>\n",
       "      <td>7.147</td>\n",
       "      <td>54.2</td>\n",
       "      <td>6.0622</td>\n",
       "      <td>3.0</td>\n",
       "      <td>222.0</td>\n",
       "      <td>18.7</td>\n",
       "      <td>396.90</td>\n",
       "      <td>5.33</td>\n",
       "    </tr>\n",
       "  </tbody>\n",
       "</table>\n",
       "</div>"
      ],
      "text/plain": [
       "      CRIM    ZN  INDUS  CHAS    NOX     RM   AGE     DIS  RAD    TAX  \\\n",
       "0  0.00632  18.0   2.31   0.0  0.538  6.575  65.2  4.0900  1.0  296.0   \n",
       "1  0.02731   0.0   7.07   0.0  0.469  6.421  78.9  4.9671  2.0  242.0   \n",
       "2  0.02729   0.0   7.07   0.0  0.469  7.185  61.1  4.9671  2.0  242.0   \n",
       "3  0.03237   0.0   2.18   0.0  0.458  6.998  45.8  6.0622  3.0  222.0   \n",
       "4  0.06905   0.0   2.18   0.0  0.458  7.147  54.2  6.0622  3.0  222.0   \n",
       "\n",
       "   PTRATIO       B  LSTAT  \n",
       "0     15.3  396.90   4.98  \n",
       "1     17.8  396.90   9.14  \n",
       "2     17.8  392.83   4.03  \n",
       "3     18.7  394.63   2.94  \n",
       "4     18.7  396.90   5.33  "
      ]
     },
     "execution_count": 4,
     "metadata": {},
     "output_type": "execute_result"
    }
   ],
   "source": [
    "dataset.head()"
   ]
  },
  {
   "cell_type": "markdown",
   "metadata": {},
   "source": [
    "As you seen, there isn't \"MEDV\" column that we will try to predict. Let's add the column to our dataset."
   ]
  },
  {
   "cell_type": "code",
   "execution_count": 5,
   "metadata": {},
   "outputs": [],
   "source": [
    "dataset['MEDV'] = boston_dataset.target"
   ]
  },
  {
   "cell_type": "code",
   "execution_count": 6,
   "metadata": {},
   "outputs": [
    {
     "data": {
      "text/html": [
       "<div>\n",
       "<style scoped>\n",
       "    .dataframe tbody tr th:only-of-type {\n",
       "        vertical-align: middle;\n",
       "    }\n",
       "\n",
       "    .dataframe tbody tr th {\n",
       "        vertical-align: top;\n",
       "    }\n",
       "\n",
       "    .dataframe thead th {\n",
       "        text-align: right;\n",
       "    }\n",
       "</style>\n",
       "<table border=\"1\" class=\"dataframe\">\n",
       "  <thead>\n",
       "    <tr style=\"text-align: right;\">\n",
       "      <th></th>\n",
       "      <th>CRIM</th>\n",
       "      <th>ZN</th>\n",
       "      <th>INDUS</th>\n",
       "      <th>CHAS</th>\n",
       "      <th>NOX</th>\n",
       "      <th>RM</th>\n",
       "      <th>AGE</th>\n",
       "      <th>DIS</th>\n",
       "      <th>RAD</th>\n",
       "      <th>TAX</th>\n",
       "      <th>PTRATIO</th>\n",
       "      <th>B</th>\n",
       "      <th>LSTAT</th>\n",
       "      <th>MEDV</th>\n",
       "    </tr>\n",
       "  </thead>\n",
       "  <tbody>\n",
       "    <tr>\n",
       "      <th>0</th>\n",
       "      <td>0.00632</td>\n",
       "      <td>18.0</td>\n",
       "      <td>2.31</td>\n",
       "      <td>0.0</td>\n",
       "      <td>0.538</td>\n",
       "      <td>6.575</td>\n",
       "      <td>65.2</td>\n",
       "      <td>4.0900</td>\n",
       "      <td>1.0</td>\n",
       "      <td>296.0</td>\n",
       "      <td>15.3</td>\n",
       "      <td>396.90</td>\n",
       "      <td>4.98</td>\n",
       "      <td>24.0</td>\n",
       "    </tr>\n",
       "    <tr>\n",
       "      <th>1</th>\n",
       "      <td>0.02731</td>\n",
       "      <td>0.0</td>\n",
       "      <td>7.07</td>\n",
       "      <td>0.0</td>\n",
       "      <td>0.469</td>\n",
       "      <td>6.421</td>\n",
       "      <td>78.9</td>\n",
       "      <td>4.9671</td>\n",
       "      <td>2.0</td>\n",
       "      <td>242.0</td>\n",
       "      <td>17.8</td>\n",
       "      <td>396.90</td>\n",
       "      <td>9.14</td>\n",
       "      <td>21.6</td>\n",
       "    </tr>\n",
       "    <tr>\n",
       "      <th>2</th>\n",
       "      <td>0.02729</td>\n",
       "      <td>0.0</td>\n",
       "      <td>7.07</td>\n",
       "      <td>0.0</td>\n",
       "      <td>0.469</td>\n",
       "      <td>7.185</td>\n",
       "      <td>61.1</td>\n",
       "      <td>4.9671</td>\n",
       "      <td>2.0</td>\n",
       "      <td>242.0</td>\n",
       "      <td>17.8</td>\n",
       "      <td>392.83</td>\n",
       "      <td>4.03</td>\n",
       "      <td>34.7</td>\n",
       "    </tr>\n",
       "    <tr>\n",
       "      <th>3</th>\n",
       "      <td>0.03237</td>\n",
       "      <td>0.0</td>\n",
       "      <td>2.18</td>\n",
       "      <td>0.0</td>\n",
       "      <td>0.458</td>\n",
       "      <td>6.998</td>\n",
       "      <td>45.8</td>\n",
       "      <td>6.0622</td>\n",
       "      <td>3.0</td>\n",
       "      <td>222.0</td>\n",
       "      <td>18.7</td>\n",
       "      <td>394.63</td>\n",
       "      <td>2.94</td>\n",
       "      <td>33.4</td>\n",
       "    </tr>\n",
       "    <tr>\n",
       "      <th>4</th>\n",
       "      <td>0.06905</td>\n",
       "      <td>0.0</td>\n",
       "      <td>2.18</td>\n",
       "      <td>0.0</td>\n",
       "      <td>0.458</td>\n",
       "      <td>7.147</td>\n",
       "      <td>54.2</td>\n",
       "      <td>6.0622</td>\n",
       "      <td>3.0</td>\n",
       "      <td>222.0</td>\n",
       "      <td>18.7</td>\n",
       "      <td>396.90</td>\n",
       "      <td>5.33</td>\n",
       "      <td>36.2</td>\n",
       "    </tr>\n",
       "  </tbody>\n",
       "</table>\n",
       "</div>"
      ],
      "text/plain": [
       "      CRIM    ZN  INDUS  CHAS    NOX     RM   AGE     DIS  RAD    TAX  \\\n",
       "0  0.00632  18.0   2.31   0.0  0.538  6.575  65.2  4.0900  1.0  296.0   \n",
       "1  0.02731   0.0   7.07   0.0  0.469  6.421  78.9  4.9671  2.0  242.0   \n",
       "2  0.02729   0.0   7.07   0.0  0.469  7.185  61.1  4.9671  2.0  242.0   \n",
       "3  0.03237   0.0   2.18   0.0  0.458  6.998  45.8  6.0622  3.0  222.0   \n",
       "4  0.06905   0.0   2.18   0.0  0.458  7.147  54.2  6.0622  3.0  222.0   \n",
       "\n",
       "   PTRATIO       B  LSTAT  MEDV  \n",
       "0     15.3  396.90   4.98  24.0  \n",
       "1     17.8  396.90   9.14  21.6  \n",
       "2     17.8  392.83   4.03  34.7  \n",
       "3     18.7  394.63   2.94  33.4  \n",
       "4     18.7  396.90   5.33  36.2  "
      ]
     },
     "execution_count": 6,
     "metadata": {},
     "output_type": "execute_result"
    }
   ],
   "source": [
    "dataset.head()"
   ]
  },
  {
   "cell_type": "markdown",
   "metadata": {},
   "source": [
    "## <span id=\"3\"></span> ** 3. Data Analysis **"
   ]
  },
  {
   "cell_type": "markdown",
   "metadata": {},
   "source": [
    "### <span id=\"4\"></span> ** Data Preprocessing **"
   ]
  },
  {
   "cell_type": "markdown",
   "metadata": {},
   "source": [
    "Are there missing values? There isn't any missing values as shown below."
   ]
  },
  {
   "cell_type": "code",
   "execution_count": 7,
   "metadata": {},
   "outputs": [
    {
     "data": {
      "text/plain": [
       "CRIM       0\n",
       "ZN         0\n",
       "INDUS      0\n",
       "CHAS       0\n",
       "NOX        0\n",
       "RM         0\n",
       "AGE        0\n",
       "DIS        0\n",
       "RAD        0\n",
       "TAX        0\n",
       "PTRATIO    0\n",
       "B          0\n",
       "LSTAT      0\n",
       "MEDV       0\n",
       "dtype: int64"
      ]
     },
     "execution_count": 7,
     "metadata": {},
     "output_type": "execute_result"
    }
   ],
   "source": [
    "dataset.isnull().sum()"
   ]
  },
  {
   "cell_type": "code",
   "execution_count": 8,
   "metadata": {},
   "outputs": [],
   "source": [
    "X = dataset.iloc[:, 0:13].values\n",
    "y = dataset.iloc[:, 13].values.reshape(-1,1)"
   ]
  },
  {
   "cell_type": "code",
   "execution_count": 9,
   "metadata": {},
   "outputs": [],
   "source": [
    "# Splitting the dataset into the Training set and Test set\n",
    "from sklearn.model_selection import train_test_split\n",
    "X_train, X_test, y_train, y_test = train_test_split(X, y, test_size = 0.3, random_state = 25)"
   ]
  },
  {
   "cell_type": "code",
   "execution_count": 10,
   "metadata": {},
   "outputs": [
    {
     "name": "stdout",
     "output_type": "stream",
     "text": [
      "Shape of X_train:  (354, 13)\n",
      "Shape of X_test:  (152, 13)\n",
      "Shape of y_train:  (354, 1)\n",
      "Shape of y_test (152, 1)\n"
     ]
    }
   ],
   "source": [
    "print(\"Shape of X_train: \",X_train.shape)\n",
    "print(\"Shape of X_test: \", X_test.shape)\n",
    "print(\"Shape of y_train: \",y_train.shape)\n",
    "print(\"Shape of y_test\",y_test.shape)"
   ]
  },
  {
   "cell_type": "markdown",
   "metadata": {},
   "source": [
    "### <span id=\"5\"></span> ** Visualizing Data **"
   ]
  },
  {
   "cell_type": "code",
   "execution_count": 11,
   "metadata": {},
   "outputs": [
    {
     "data": {
      "text/plain": [
       "'3.1.0'"
      ]
     },
     "execution_count": 11,
     "metadata": {},
     "output_type": "execute_result"
    }
   ],
   "source": [
    "import matplotlib\n",
    "matplotlib.__version__"
   ]
  },
  {
   "cell_type": "code",
   "execution_count": 13,
   "metadata": {},
   "outputs": [
    {
     "data": {
      "image/png": "[encoded data removed]",
      "text/plain": [
       "<Figure size 720x720 with 2 Axes>"
      ]
     },
     "metadata": {
      "needs_background": "light"
     },
     "output_type": "display_data"
    }
   ],
   "source": [
    "corr = dataset.corr()\n",
    "#Plot figsize\n",
    "fig, ax = plt.subplots(figsize=(10, 10))\n",
    "#Generate Heat Map, allow annotations and place floats in map\n",
    "sns.heatmap(corr, cmap='RdBu', annot=True, fmt=\".2f\")\n",
    "#Apply xticks\n",
    "plt.xticks(range(len(corr.columns)), corr.columns)\n",
    "#Apply yticks\n",
    "plt.yticks(range(len(corr.columns)), corr.columns)\n",
    "#show plot\n",
    "plt.show()"
   ]
  },
  {
   "cell_type": "code",
   "execution_count": null,
   "metadata": {},
   "outputs": [],
   "source": [
    "sns.pairplot(dataset)\n",
    "plt.show()"
   ]
  },
  {
   "cell_type": "markdown",
   "metadata": {},
   "source": [
    "## <span id=\"6\"></span> ** 4. Regression Models **"
   ]
  },
  {
   "cell_type": "markdown",
   "metadata": {},
   "source": [
    "### <span id=\"7\"></span> ** Linear Regression **"
   ]
  },
  {
   "cell_type": "code",
   "execution_count": 14,
   "metadata": {},
   "outputs": [
    {
     "data": {
      "text/plain": [
       "LinearRegression(copy_X=True, fit_intercept=True, n_jobs=None, normalize=False)"
      ]
     },
     "execution_count": 14,
     "metadata": {},
     "output_type": "execute_result"
    }
   ],
   "source": [
    "from sklearn.linear_model import LinearRegression\n",
    "regressor_linear = LinearRegression()\n",
    "regressor_linear.fit(X_train, y_train)"
   ]
  },
  {
   "cell_type": "code",
   "execution_count": 15,
   "metadata": {},
   "outputs": [
    {
     "data": {
      "text/html": [
       "<div>\n",
       "<style scoped>\n",
       "    .dataframe tbody tr th:only-of-type {\n",
       "        vertical-align: middle;\n",
       "    }\n",
       "\n",
       "    .dataframe tbody tr th {\n",
       "        vertical-align: top;\n",
       "    }\n",
       "\n",
       "    .dataframe thead th {\n",
       "        text-align: right;\n",
       "    }\n",
       "</style>\n",
       "<table border=\"1\" class=\"dataframe\">\n",
       "  <thead>\n",
       "    <tr style=\"text-align: right;\">\n",
       "      <th></th>\n",
       "      <th>Columns</th>\n",
       "      <th>Coefficients</th>\n",
       "    </tr>\n",
       "  </thead>\n",
       "  <tbody>\n",
       "    <tr>\n",
       "      <th>0</th>\n",
       "      <td>CRIM</td>\n",
       "      <td>-0.115254</td>\n",
       "    </tr>\n",
       "    <tr>\n",
       "      <th>1</th>\n",
       "      <td>ZN</td>\n",
       "      <td>0.050516</td>\n",
       "    </tr>\n",
       "    <tr>\n",
       "      <th>2</th>\n",
       "      <td>INDUS</td>\n",
       "      <td>0.027367</td>\n",
       "    </tr>\n",
       "    <tr>\n",
       "      <th>3</th>\n",
       "      <td>CHAS</td>\n",
       "      <td>0.730471</td>\n",
       "    </tr>\n",
       "    <tr>\n",
       "      <th>4</th>\n",
       "      <td>NOX</td>\n",
       "      <td>-18.983303</td>\n",
       "    </tr>\n",
       "    <tr>\n",
       "      <th>5</th>\n",
       "      <td>RM</td>\n",
       "      <td>4.031332</td>\n",
       "    </tr>\n",
       "    <tr>\n",
       "      <th>6</th>\n",
       "      <td>AGE</td>\n",
       "      <td>-0.004829</td>\n",
       "    </tr>\n",
       "    <tr>\n",
       "      <th>7</th>\n",
       "      <td>DIS</td>\n",
       "      <td>-1.549999</td>\n",
       "    </tr>\n",
       "    <tr>\n",
       "      <th>8</th>\n",
       "      <td>RAD</td>\n",
       "      <td>0.367470</td>\n",
       "    </tr>\n",
       "    <tr>\n",
       "      <th>9</th>\n",
       "      <td>TAX</td>\n",
       "      <td>-0.016670</td>\n",
       "    </tr>\n",
       "    <tr>\n",
       "      <th>10</th>\n",
       "      <td>PTRATIO</td>\n",
       "      <td>-0.985759</td>\n",
       "    </tr>\n",
       "    <tr>\n",
       "      <th>11</th>\n",
       "      <td>B</td>\n",
       "      <td>0.007445</td>\n",
       "    </tr>\n",
       "    <tr>\n",
       "      <th>12</th>\n",
       "      <td>LSTAT</td>\n",
       "      <td>-0.459170</td>\n",
       "    </tr>\n",
       "  </tbody>\n",
       "</table>\n",
       "</div>"
      ],
      "text/plain": [
       "    Columns  Coefficients\n",
       "0      CRIM     -0.115254\n",
       "1        ZN      0.050516\n",
       "2     INDUS      0.027367\n",
       "3      CHAS      0.730471\n",
       "4       NOX    -18.983303\n",
       "5        RM      4.031332\n",
       "6       AGE     -0.004829\n",
       "7       DIS     -1.549999\n",
       "8       RAD      0.367470\n",
       "9       TAX     -0.016670\n",
       "10  PTRATIO     -0.985759\n",
       "11        B      0.007445\n",
       "12    LSTAT     -0.459170"
      ]
     },
     "execution_count": 15,
     "metadata": {},
     "output_type": "execute_result"
    }
   ],
   "source": [
    "df = pd.DataFrame({'Columns':dataset.columns.tolist()[:-1],'Coefficients':regressor_linear.coef_.tolist()[0]})\n",
    "df"
   ]
  },
  {
   "cell_type": "code",
   "execution_count": 18,
   "metadata": {},
   "outputs": [
    {
     "data": {
      "text/plain": [
       "array([38.10422593])"
      ]
     },
     "execution_count": 18,
     "metadata": {},
     "output_type": "execute_result"
    }
   ],
   "source": [
    "regressor_linear.intercept_"
   ]
  },
  {
   "cell_type": "code",
   "execution_count": 29,
   "metadata": {},
   "outputs": [
    {
     "name": "stdout",
     "output_type": "stream",
     "text": [
      "CV:  0.6965636232603194\n",
      "R2_score (train):  0.7435787589010061\n",
      "R2_score (test):  0.713359331371036\n",
      "RMSE:  4.647279745724203\n"
     ]
    }
   ],
   "source": [
    "from sklearn.metrics import r2_score\n",
    "\n",
    "# Predicting Cross Validation Score the Test set results\n",
    "cv_linear = cross_val_score(estimator = regressor_linear, X = X_train, y = y_train, cv = 2)\n",
    "## By default scorer = None, For regression default is RMSE and for classification default is accuracy\n",
    "# # Predicting R2 Score the Train set results\n",
    "y_pred_linear_train = regressor_linear.predict(X_train)\n",
    "r2_score_linear_train = r2_score(y_train, y_pred_linear_train)\n",
    "\n",
    "# # Predicting R2 Score the Test set results\n",
    "y_pred_linear_test = regressor_linear.predict(X_test)\n",
    "r2_score_linear_test = r2_score(y_test, y_pred_linear_test)\n",
    "\n",
    "# # Predicting RMSE the Test set results\n",
    "rmse_linear = (np.sqrt(mean_squared_error(y_test, y_pred_linear_test)))\n",
    "print(\"CV: \", cv_linear.mean())\n",
    "print('R2_score (train): ', r2_score_linear_train)\n",
    "print('R2_score (test): ', r2_score_linear_test)\n",
    "print(\"RMSE: \", rmse_linear)"
   ]
  },
  {
   "cell_type": "code",
   "execution_count": 35,
   "metadata": {},
   "outputs": [
    {
     "data": {
      "text/plain": [
       "<matplotlib.axes._subplots.AxesSubplot at 0x276f1f9d3c8>"
      ]
     },
     "execution_count": 35,
     "metadata": {},
     "output_type": "execute_result"
    },
    {
     "data": {
      "image/png": "[encoded data removed]",
      "text/plain": [
       "<Figure size 576x396 with 1 Axes>"
      ]
     },
     "metadata": {},
     "output_type": "display_data"
    }
   ],
   "source": [
    "sns.distplot(dataset['MEDV'],kde=True,hist=True)"
   ]
  },
  {
   "cell_type": "code",
   "execution_count": 22,
   "metadata": {},
   "outputs": [
    {
     "data": {
      "text/plain": [
       "array([0.79803974, 0.71895637, 0.55545535, 0.62685237, 0.73742305])"
      ]
     },
     "execution_count": 22,
     "metadata": {},
     "output_type": "execute_result"
    }
   ],
   "source": [
    "cv_linear"
   ]
  },
  {
   "cell_type": "markdown",
   "metadata": {},
   "source": [
    "### <span id=\"8\"></span> ** Polynomial Regression - 2nd degree **"
   ]
  },
  {
   "cell_type": "code",
   "execution_count": 36,
   "metadata": {},
   "outputs": [
    {
     "data": {
      "text/plain": [
       "LinearRegression(copy_X=True, fit_intercept=True, n_jobs=None, normalize=False)"
      ]
     },
     "execution_count": 36,
     "metadata": {},
     "output_type": "execute_result"
    }
   ],
   "source": [
    "from sklearn.preprocessing import PolynomialFeatures\n",
    "poly_reg = PolynomialFeatures(degree = 2)\n",
    "X_poly = poly_reg.fit_transform(X_train)\n",
    "poly_reg.fit(X_poly, y_train)\n",
    "regressor_poly2 = LinearRegression()\n",
    "regressor_poly2.fit(X_poly, y_train)"
   ]
  },
  {
   "cell_type": "code",
   "execution_count": 37,
   "metadata": {},
   "outputs": [
    {
     "name": "stdout",
     "output_type": "stream",
     "text": [
      "CV:  0.6984854476156032\n",
      "R2_score (train):  0.9274207681883535\n",
      "R2_score (test):  0.7104567472982628\n",
      "RMSE:  4.67075014792698\n"
     ]
    }
   ],
   "source": [
    "from sklearn.metrics import r2_score\n",
    "\n",
    "# Predicting Cross Validation Score the Test set results\n",
    "cv_poly2 = cross_val_score(estimator = regressor_poly2, X = X_train, y = y_train, cv = 10)\n",
    "\n",
    "# Predicting R2 Score the Train set results\n",
    "y_pred_poly2_train = regressor_poly2.predict(poly_reg.fit_transform(X_train))\n",
    "r2_score_poly2_train = r2_score(y_train, y_pred_poly2_train)\n",
    "\n",
    "# Predicting R2 Score the Test set results\n",
    "y_pred_poly2_test = regressor_poly2.predict(poly_reg.fit_transform(X_test))\n",
    "r2_score_poly2_test = r2_score(y_test, y_pred_poly2_test)\n",
    "\n",
    "# Predicting RMSE the Test set results\n",
    "rmse_poly2 = (np.sqrt(mean_squared_error(y_test, y_pred_poly2_test)))\n",
    "print('CV: ', cv_poly2.mean())\n",
    "print('R2_score (train): ', r2_score_poly2_train)\n",
    "print('R2_score (test): ', r2_score_poly2_test)\n",
    "print(\"RMSE: \", rmse_poly2)"
   ]
  },
  {
   "cell_type": "markdown",
   "metadata": {},
   "source": [
    "### <span id=\"9\"></span> ** Ridge Regression **"
   ]
  },
  {
   "cell_type": "code",
   "execution_count": 114,
   "metadata": {},
   "outputs": [
    {
     "data": {
      "text/plain": [
       "Lasso(alpha=0.02002002002002002, copy_X=True, fit_intercept=True, max_iter=1000,\n",
       "      normalize=False, positive=False, precompute=False, random_state=None,\n",
       "      selection='cyclic', tol=0.0001, warm_start=False)"
      ]
     },
     "execution_count": 114,
     "metadata": {},
     "output_type": "execute_result"
    }
   ],
   "source": [
    "from sklearn.linear_model import Ridge,Lasso\n",
    "model_r = Ridge(alpha=0.2972972972972973)\n",
    "model_r.fit(X_train,y_train)\n",
    "model_l = Lasso(alpha=0.02002002002002002)\n",
    "model_l.fit(X_train,y_train)"
   ]
  },
  {
   "cell_type": "code",
   "execution_count": 115,
   "metadata": {},
   "outputs": [],
   "source": [
    "df['Ridge_Coefficients'] = model_r.coef_[0]\n",
    "df['Lasso_Coefficients'] = model_l.coef_[0]"
   ]
  },
  {
   "cell_type": "code",
   "execution_count": 116,
   "metadata": {},
   "outputs": [
    {
     "data": {
      "text/html": [
       "<div>\n",
       "<style scoped>\n",
       "    .dataframe tbody tr th:only-of-type {\n",
       "        vertical-align: middle;\n",
       "    }\n",
       "\n",
       "    .dataframe tbody tr th {\n",
       "        vertical-align: top;\n",
       "    }\n",
       "\n",
       "    .dataframe thead th {\n",
       "        text-align: right;\n",
       "    }\n",
       "</style>\n",
       "<table border=\"1\" class=\"dataframe\">\n",
       "  <thead>\n",
       "    <tr style=\"text-align: right;\">\n",
       "      <th></th>\n",
       "      <th>Columns</th>\n",
       "      <th>Coefficients</th>\n",
       "      <th>Ridge_Coefficients</th>\n",
       "      <th>Lasso_Coefficients</th>\n",
       "    </tr>\n",
       "  </thead>\n",
       "  <tbody>\n",
       "    <tr>\n",
       "      <th>0</th>\n",
       "      <td>CRIM</td>\n",
       "      <td>-0.115254</td>\n",
       "      <td>-0.113402</td>\n",
       "      <td>-0.111874</td>\n",
       "    </tr>\n",
       "    <tr>\n",
       "      <th>1</th>\n",
       "      <td>ZN</td>\n",
       "      <td>0.050516</td>\n",
       "      <td>0.051393</td>\n",
       "      <td>-0.111874</td>\n",
       "    </tr>\n",
       "    <tr>\n",
       "      <th>2</th>\n",
       "      <td>INDUS</td>\n",
       "      <td>0.027367</td>\n",
       "      <td>0.009744</td>\n",
       "      <td>-0.111874</td>\n",
       "    </tr>\n",
       "    <tr>\n",
       "      <th>3</th>\n",
       "      <td>CHAS</td>\n",
       "      <td>0.730471</td>\n",
       "      <td>0.675222</td>\n",
       "      <td>-0.111874</td>\n",
       "    </tr>\n",
       "    <tr>\n",
       "      <th>4</th>\n",
       "      <td>NOX</td>\n",
       "      <td>-18.983303</td>\n",
       "      <td>-14.985964</td>\n",
       "      <td>-0.111874</td>\n",
       "    </tr>\n",
       "    <tr>\n",
       "      <th>5</th>\n",
       "      <td>RM</td>\n",
       "      <td>4.031332</td>\n",
       "      <td>4.053181</td>\n",
       "      <td>-0.111874</td>\n",
       "    </tr>\n",
       "    <tr>\n",
       "      <th>6</th>\n",
       "      <td>AGE</td>\n",
       "      <td>-0.004829</td>\n",
       "      <td>-0.008602</td>\n",
       "      <td>-0.111874</td>\n",
       "    </tr>\n",
       "    <tr>\n",
       "      <th>7</th>\n",
       "      <td>DIS</td>\n",
       "      <td>-1.549999</td>\n",
       "      <td>-1.493232</td>\n",
       "      <td>-0.111874</td>\n",
       "    </tr>\n",
       "    <tr>\n",
       "      <th>8</th>\n",
       "      <td>RAD</td>\n",
       "      <td>0.367470</td>\n",
       "      <td>0.363121</td>\n",
       "      <td>-0.111874</td>\n",
       "    </tr>\n",
       "    <tr>\n",
       "      <th>9</th>\n",
       "      <td>TAX</td>\n",
       "      <td>-0.016670</td>\n",
       "      <td>-0.017150</td>\n",
       "      <td>-0.111874</td>\n",
       "    </tr>\n",
       "    <tr>\n",
       "      <th>10</th>\n",
       "      <td>PTRATIO</td>\n",
       "      <td>-0.985759</td>\n",
       "      <td>-0.937745</td>\n",
       "      <td>-0.111874</td>\n",
       "    </tr>\n",
       "    <tr>\n",
       "      <th>11</th>\n",
       "      <td>B</td>\n",
       "      <td>0.007445</td>\n",
       "      <td>0.007831</td>\n",
       "      <td>-0.111874</td>\n",
       "    </tr>\n",
       "    <tr>\n",
       "      <th>12</th>\n",
       "      <td>LSTAT</td>\n",
       "      <td>-0.459170</td>\n",
       "      <td>-0.464091</td>\n",
       "      <td>-0.111874</td>\n",
       "    </tr>\n",
       "  </tbody>\n",
       "</table>\n",
       "</div>"
      ],
      "text/plain": [
       "    Columns  Coefficients  Ridge_Coefficients  Lasso_Coefficients\n",
       "0      CRIM     -0.115254           -0.113402           -0.111874\n",
       "1        ZN      0.050516            0.051393           -0.111874\n",
       "2     INDUS      0.027367            0.009744           -0.111874\n",
       "3      CHAS      0.730471            0.675222           -0.111874\n",
       "4       NOX    -18.983303          -14.985964           -0.111874\n",
       "5        RM      4.031332            4.053181           -0.111874\n",
       "6       AGE     -0.004829           -0.008602           -0.111874\n",
       "7       DIS     -1.549999           -1.493232           -0.111874\n",
       "8       RAD      0.367470            0.363121           -0.111874\n",
       "9       TAX     -0.016670           -0.017150           -0.111874\n",
       "10  PTRATIO     -0.985759           -0.937745           -0.111874\n",
       "11        B      0.007445            0.007831           -0.111874\n",
       "12    LSTAT     -0.459170           -0.464091           -0.111874"
      ]
     },
     "execution_count": 116,
     "metadata": {},
     "output_type": "execute_result"
    }
   ],
   "source": [
    "df"
   ]
  },
  {
   "cell_type": "code",
   "execution_count": 111,
   "metadata": {},
   "outputs": [
    {
     "name": "stderr",
     "output_type": "stream",
     "text": [
      "C:\\Users\\aipc\\AppData\\Roaming\\Python\\Python37\\site-packages\\sklearn\\model_selection\\_search.py:813: DeprecationWarning: The default of the `iid` parameter will change from True to False in version 0.22 and will be removed in 0.24. This will change numeric results when test-set sizes are unequal.\n",
      "  DeprecationWarning)\n"
     ]
    },
    {
     "data": {
      "text/plain": [
       "GridSearchCV(cv=10, error_score='raise-deprecating',\n",
       "             estimator=Ridge(alpha=1.0, copy_X=True, fit_intercept=True,\n",
       "                             max_iter=None, normalize=False, random_state=None,\n",
       "                             solver='auto', tol=0.001),\n",
       "             iid='warn', n_jobs=None,\n",
       "             param_grid={'alpha': array([0.        , 0.001001  , 0.002002  , 0.003003  , 0.004004  ,\n",
       "       0.00500501, 0.00600601, 0.00700701, 0.00800801, 0.00900901,\n",
       "       0.01001001, 0.01101101, 0.0...\n",
       "       0.97597598, 0.97697698, 0.97797798, 0.97897898, 0.97997998,\n",
       "       0.98098098, 0.98198198, 0.98298298, 0.98398398, 0.98498498,\n",
       "       0.98598599, 0.98698699, 0.98798799, 0.98898899, 0.98998999,\n",
       "       0.99099099, 0.99199199, 0.99299299, 0.99399399, 0.99499499,\n",
       "       0.995996  , 0.996997  , 0.997998  , 0.998999  , 1.        ])},\n",
       "             pre_dispatch='2*n_jobs', refit=True, return_train_score=False,\n",
       "             scoring='neg_mean_absolute_error', verbose=0)"
      ]
     },
     "execution_count": 111,
     "metadata": {},
     "output_type": "execute_result"
    }
   ],
   "source": [
    "from sklearn.model_selection import GridSearchCV\n",
    "params = {'alpha':np.linspace(0,1,1000)}\n",
    "model_ridge = Ridge(fit_intercept=True)\n",
    "grid = GridSearchCV(model_ridge,param_grid=params,cv = 10,scoring = 'neg_mean_absolute_error')\n",
    "grid.fit(X_train,y_train)"
   ]
  },
  {
   "cell_type": "code",
   "execution_count": 112,
   "metadata": {},
   "outputs": [
    {
     "data": {
      "text/plain": [
       "Ridge(alpha=0.2972972972972973, copy_X=True, fit_intercept=True, max_iter=None,\n",
       "      normalize=False, random_state=None, solver='auto', tol=0.001)"
      ]
     },
     "execution_count": 112,
     "metadata": {},
     "output_type": "execute_result"
    }
   ],
   "source": [
    "grid.best_estimator_"
   ]
  },
  {
   "cell_type": "code",
   "execution_count": 74,
   "metadata": {},
   "outputs": [],
   "source": [
    "ridge_train_pred = grid.predict(X_train)\n",
    "ridge_test_pred = grid.predict(X_test)"
   ]
  },
  {
   "cell_type": "code",
   "execution_count": 67,
   "metadata": {},
   "outputs": [
    {
     "name": "stdout",
     "output_type": "stream",
     "text": [
      "R2_score (train):  0.651937579652531\n",
      "R2_score (test):  0.5759877503442639\n",
      "RMSE_train:  4.763809619251054\n",
      "RMSE_test:  4.643192147636909\n"
     ]
    }
   ],
   "source": [
    "r2_score_ridge_train = r2_score(ridge_train_pred,y_train)\n",
    "r2_score_ridge_test = r2_score(ridge_test_pred,y_test)\n",
    "rmse_ridge_train = np.sqrt(mean_squared_error(ridge_train_pred,y_train))\n",
    "rmse_ridge_test = np.sqrt(mean_squared_error(ridge_test_pred,y_test))\n",
    "print('R2_score (train): ', r2_score_ridge_train)\n",
    "print('R2_score (test): ', r2_score_ridge_test)\n",
    "print(\"RMSE_train: \", rmse_ridge_train)\n",
    "print(\"RMSE_test: \", rmse_ridge_test)"
   ]
  },
  {
   "cell_type": "code",
   "execution_count": 75,
   "metadata": {},
   "outputs": [
    {
     "name": "stderr",
     "output_type": "stream",
     "text": [
      "C:\\Users\\aipc\\AppData\\Roaming\\Python\\Python37\\site-packages\\sklearn\\model_selection\\_validation.py:514: UserWarning: With alpha=0, this algorithm does not converge well. You are advised to use the LinearRegression estimator\n",
      "  estimator.fit(X_train, y_train, **fit_params)\n",
      "C:\\Users\\aipc\\AppData\\Roaming\\Python\\Python37\\site-packages\\sklearn\\linear_model\\coordinate_descent.py:475: UserWarning: Coordinate descent with no regularization may lead to unexpected results and is discouraged.\n",
      "  positive)\n",
      "C:\\Users\\aipc\\AppData\\Roaming\\Python\\Python37\\site-packages\\sklearn\\linear_model\\coordinate_descent.py:475: ConvergenceWarning: Objective did not converge. You might want to increase the number of iterations. Duality gap: 3627.415300178819, tolerance: 2.861670364779875\n",
      "  positive)\n",
      "C:\\Users\\aipc\\AppData\\Roaming\\Python\\Python37\\site-packages\\sklearn\\model_selection\\_validation.py:514: UserWarning: With alpha=0, this algorithm does not converge well. You are advised to use the LinearRegression estimator\n",
      "  estimator.fit(X_train, y_train, **fit_params)\n",
      "C:\\Users\\aipc\\AppData\\Roaming\\Python\\Python37\\site-packages\\sklearn\\linear_model\\coordinate_descent.py:475: UserWarning: Coordinate descent with no regularization may lead to unexpected results and is discouraged.\n",
      "  positive)\n",
      "C:\\Users\\aipc\\AppData\\Roaming\\Python\\Python37\\site-packages\\sklearn\\linear_model\\coordinate_descent.py:475: ConvergenceWarning: Objective did not converge. You might want to increase the number of iterations. Duality gap: 3539.9272585120357, tolerance: 2.598733386792454\n",
      "  positive)\n",
      "C:\\Users\\aipc\\AppData\\Roaming\\Python\\Python37\\site-packages\\sklearn\\model_selection\\_validation.py:514: UserWarning: With alpha=0, this algorithm does not converge well. You are advised to use the LinearRegression estimator\n",
      "  estimator.fit(X_train, y_train, **fit_params)\n",
      "C:\\Users\\aipc\\AppData\\Roaming\\Python\\Python37\\site-packages\\sklearn\\linear_model\\coordinate_descent.py:475: UserWarning: Coordinate descent with no regularization may lead to unexpected results and is discouraged.\n",
      "  positive)\n",
      "C:\\Users\\aipc\\AppData\\Roaming\\Python\\Python37\\site-packages\\sklearn\\linear_model\\coordinate_descent.py:475: ConvergenceWarning: Objective did not converge. You might want to increase the number of iterations. Duality gap: 3408.8327283308968, tolerance: 2.632357534591196\n",
      "  positive)\n",
      "C:\\Users\\aipc\\AppData\\Roaming\\Python\\Python37\\site-packages\\sklearn\\model_selection\\_validation.py:514: UserWarning: With alpha=0, this algorithm does not converge well. You are advised to use the LinearRegression estimator\n",
      "  estimator.fit(X_train, y_train, **fit_params)\n",
      "C:\\Users\\aipc\\AppData\\Roaming\\Python\\Python37\\site-packages\\sklearn\\linear_model\\coordinate_descent.py:475: UserWarning: Coordinate descent with no regularization may lead to unexpected results and is discouraged.\n",
      "  positive)\n",
      "C:\\Users\\aipc\\AppData\\Roaming\\Python\\Python37\\site-packages\\sklearn\\linear_model\\coordinate_descent.py:475: ConvergenceWarning: Objective did not converge. You might want to increase the number of iterations. Duality gap: 3665.046071214519, tolerance: 2.860645534591195\n",
      "  positive)\n",
      "C:\\Users\\aipc\\AppData\\Roaming\\Python\\Python37\\site-packages\\sklearn\\model_selection\\_validation.py:514: UserWarning: With alpha=0, this algorithm does not converge well. You are advised to use the LinearRegression estimator\n",
      "  estimator.fit(X_train, y_train, **fit_params)\n",
      "C:\\Users\\aipc\\AppData\\Roaming\\Python\\Python37\\site-packages\\sklearn\\linear_model\\coordinate_descent.py:475: UserWarning: Coordinate descent with no regularization may lead to unexpected results and is discouraged.\n",
      "  positive)\n",
      "C:\\Users\\aipc\\AppData\\Roaming\\Python\\Python37\\site-packages\\sklearn\\linear_model\\coordinate_descent.py:475: ConvergenceWarning: Objective did not converge. You might want to increase the number of iterations. Duality gap: 3846.387944770995, tolerance: 2.9300124702194363\n",
      "  positive)\n",
      "C:\\Users\\aipc\\AppData\\Roaming\\Python\\Python37\\site-packages\\sklearn\\model_selection\\_validation.py:514: UserWarning: With alpha=0, this algorithm does not converge well. You are advised to use the LinearRegression estimator\n",
      "  estimator.fit(X_train, y_train, **fit_params)\n",
      "C:\\Users\\aipc\\AppData\\Roaming\\Python\\Python37\\site-packages\\sklearn\\linear_model\\coordinate_descent.py:475: UserWarning: Coordinate descent with no regularization may lead to unexpected results and is discouraged.\n",
      "  positive)\n",
      "C:\\Users\\aipc\\AppData\\Roaming\\Python\\Python37\\site-packages\\sklearn\\linear_model\\coordinate_descent.py:475: ConvergenceWarning: Objective did not converge. You might want to increase the number of iterations. Duality gap: 3244.9999173926535, tolerance: 2.806303730407523\n",
      "  positive)\n",
      "C:\\Users\\aipc\\AppData\\Roaming\\Python\\Python37\\site-packages\\sklearn\\model_selection\\_validation.py:514: UserWarning: With alpha=0, this algorithm does not converge well. You are advised to use the LinearRegression estimator\n",
      "  estimator.fit(X_train, y_train, **fit_params)\n",
      "C:\\Users\\aipc\\AppData\\Roaming\\Python\\Python37\\site-packages\\sklearn\\linear_model\\coordinate_descent.py:475: UserWarning: Coordinate descent with no regularization may lead to unexpected results and is discouraged.\n",
      "  positive)\n",
      "C:\\Users\\aipc\\AppData\\Roaming\\Python\\Python37\\site-packages\\sklearn\\linear_model\\coordinate_descent.py:475: ConvergenceWarning: Objective did not converge. You might want to increase the number of iterations. Duality gap: 3775.436993460703, tolerance: 2.9175848338557997\n",
      "  positive)\n",
      "C:\\Users\\aipc\\AppData\\Roaming\\Python\\Python37\\site-packages\\sklearn\\model_selection\\_validation.py:514: UserWarning: With alpha=0, this algorithm does not converge well. You are advised to use the LinearRegression estimator\n",
      "  estimator.fit(X_train, y_train, **fit_params)\n",
      "C:\\Users\\aipc\\AppData\\Roaming\\Python\\Python37\\site-packages\\sklearn\\linear_model\\coordinate_descent.py:475: UserWarning: Coordinate descent with no regularization may lead to unexpected results and is discouraged.\n",
      "  positive)\n",
      "C:\\Users\\aipc\\AppData\\Roaming\\Python\\Python37\\site-packages\\sklearn\\linear_model\\coordinate_descent.py:475: ConvergenceWarning: Objective did not converge. You might want to increase the number of iterations. Duality gap: 3473.04992719383, tolerance: 2.905294927899686\n",
      "  positive)\n",
      "C:\\Users\\aipc\\AppData\\Roaming\\Python\\Python37\\site-packages\\sklearn\\model_selection\\_validation.py:514: UserWarning: With alpha=0, this algorithm does not converge well. You are advised to use the LinearRegression estimator\n",
      "  estimator.fit(X_train, y_train, **fit_params)\n",
      "C:\\Users\\aipc\\AppData\\Roaming\\Python\\Python37\\site-packages\\sklearn\\linear_model\\coordinate_descent.py:475: UserWarning: Coordinate descent with no regularization may lead to unexpected results and is discouraged.\n",
      "  positive)\n",
      "C:\\Users\\aipc\\AppData\\Roaming\\Python\\Python37\\site-packages\\sklearn\\linear_model\\coordinate_descent.py:475: ConvergenceWarning: Objective did not converge. You might want to increase the number of iterations. Duality gap: 3635.7748757000772, tolerance: 2.8079455235109725\n",
      "  positive)\n",
      "C:\\Users\\aipc\\AppData\\Roaming\\Python\\Python37\\site-packages\\sklearn\\model_selection\\_validation.py:514: UserWarning: With alpha=0, this algorithm does not converge well. You are advised to use the LinearRegression estimator\n",
      "  estimator.fit(X_train, y_train, **fit_params)\n",
      "C:\\Users\\aipc\\AppData\\Roaming\\Python\\Python37\\site-packages\\sklearn\\linear_model\\coordinate_descent.py:475: UserWarning: Coordinate descent with no regularization may lead to unexpected results and is discouraged.\n",
      "  positive)\n",
      "C:\\Users\\aipc\\AppData\\Roaming\\Python\\Python37\\site-packages\\sklearn\\linear_model\\coordinate_descent.py:475: ConvergenceWarning: Objective did not converge. You might want to increase the number of iterations. Duality gap: 3632.020886069697, tolerance: 2.8078719498432596\n",
      "  positive)\n",
      "C:\\Users\\aipc\\AppData\\Roaming\\Python\\Python37\\site-packages\\sklearn\\model_selection\\_search.py:813: DeprecationWarning: The default of the `iid` parameter will change from True to False in version 0.22 and will be removed in 0.24. This will change numeric results when test-set sizes are unequal.\n",
      "  DeprecationWarning)\n"
     ]
    },
    {
     "data": {
      "text/plain": [
       "GridSearchCV(cv=10, error_score='raise-deprecating',\n",
       "             estimator=Lasso(alpha=1.0, copy_X=True, fit_intercept=True,\n",
       "                             max_iter=1000, normalize=False, positive=False,\n",
       "                             precompute=False, random_state=None,\n",
       "                             selection='cyclic', tol=0.0001, warm_start=False),\n",
       "             iid='warn', n_jobs=None,\n",
       "             param_grid={'alpha': array([0.        , 0.001001  , 0.002002  , 0.003003  , 0.004004  ,\n",
       "       0.00500501, 0.00600601, 0.0...\n",
       "       0.97597598, 0.97697698, 0.97797798, 0.97897898, 0.97997998,\n",
       "       0.98098098, 0.98198198, 0.98298298, 0.98398398, 0.98498498,\n",
       "       0.98598599, 0.98698699, 0.98798799, 0.98898899, 0.98998999,\n",
       "       0.99099099, 0.99199199, 0.99299299, 0.99399399, 0.99499499,\n",
       "       0.995996  , 0.996997  , 0.997998  , 0.998999  , 1.        ])},\n",
       "             pre_dispatch='2*n_jobs', refit=True, return_train_score=False,\n",
       "             scoring='neg_mean_absolute_error', verbose=0)"
      ]
     },
     "execution_count": 75,
     "metadata": {},
     "output_type": "execute_result"
    }
   ],
   "source": [
    "from sklearn.model_selection import GridSearchCV\n",
    "params = {'alpha':np.linspace(0,1,1000)}\n",
    "model_lasso = Lasso(fit_intercept=True)\n",
    "grid = GridSearchCV(model_lasso,param_grid=params,cv = 10,scoring = 'neg_mean_absolute_error')\n",
    "grid.fit(X_train,y_train)"
   ]
  },
  {
   "cell_type": "code",
   "execution_count": 76,
   "metadata": {},
   "outputs": [
    {
     "data": {
      "text/plain": [
       "Lasso(alpha=0.02002002002002002, copy_X=True, fit_intercept=True, max_iter=1000,\n",
       "      normalize=False, positive=False, precompute=False, random_state=None,\n",
       "      selection='cyclic', tol=0.0001, warm_start=False)"
      ]
     },
     "execution_count": 76,
     "metadata": {},
     "output_type": "execute_result"
    }
   ],
   "source": [
    "grid.best_estimator_"
   ]
  },
  {
   "cell_type": "code",
   "execution_count": 77,
   "metadata": {},
   "outputs": [],
   "source": [
    "lasso_train_pred = grid.predict(X_train)\n",
    "lasso_test_pred = grid.predict(X_test)"
   ]
  },
  {
   "cell_type": "code",
   "execution_count": 78,
   "metadata": {},
   "outputs": [
    {
     "name": "stdout",
     "output_type": "stream",
     "text": [
      "R2_score (train):  0.6478566326221257\n",
      "R2_score (test):  0.5653424477619053\n",
      "RMSE_train:  4.773684451390203\n",
      "RMSE_test:  4.6768833077820995\n"
     ]
    }
   ],
   "source": [
    "r2_score_lasso_train = r2_score(lasso_train_pred,y_train)\n",
    "r2_score_lasso_test = r2_score(lasso_test_pred,y_test)\n",
    "rmse_lasso_train = np.sqrt(mean_squared_error(lasso_train_pred,y_train))\n",
    "rmse_lasso_test = np.sqrt(mean_squared_error(lasso_test_pred,y_test))\n",
    "print('R2_score (train): ', r2_score_lasso_train)\n",
    "print('R2_score (test): ', r2_score_lasso_test)\n",
    "print(\"RMSE_train: \", rmse_lasso_train)\n",
    "print(\"RMSE_test: \", rmse_lasso_test)"
   ]
  },
  {
   "cell_type": "code",
   "execution_count": 38,
   "metadata": {},
   "outputs": [
    {
     "data": {
      "text/plain": [
       "Pipeline(memory=None,\n",
       "         steps=[('scalar',\n",
       "                 StandardScaler(copy=True, with_mean=True, with_std=True)),\n",
       "                ('poly',\n",
       "                 PolynomialFeatures(degree=2, include_bias=True,\n",
       "                                    interaction_only=False, order='C')),\n",
       "                ('model',\n",
       "                 Ridge(alpha=3.8, copy_X=True, fit_intercept=True,\n",
       "                       max_iter=None, normalize=False, random_state=None,\n",
       "                       solver='auto', tol=0.001))],\n",
       "         verbose=False)"
      ]
     },
     "execution_count": 38,
     "metadata": {},
     "output_type": "execute_result"
    }
   ],
   "source": [
    "from sklearn.linear_model import Ridge\n",
    "from sklearn.preprocessing import StandardScaler\n",
    "from sklearn.pipeline import Pipeline\n",
    "from sklearn.preprocessing import PolynomialFeatures\n",
    "\n",
    "steps = [\n",
    "    ('scalar', StandardScaler()),\n",
    "    ('poly', PolynomialFeatures(degree=2)),\n",
    "    ('model', Ridge(alpha=3.8, fit_intercept=True))\n",
    "]\n",
    "\n",
    "ridge_pipe = Pipeline(steps)\n",
    "ridge_pipe.fit(X_train, y_train)"
   ]
  },
  {
   "cell_type": "code",
   "execution_count": 81,
   "metadata": {},
   "outputs": [
    {
     "name": "stdout",
     "output_type": "stream",
     "text": [
      "CV:  0.7635629962138719\n",
      "R2_score (train):  0.9228176586388412\n",
      "R2_score (test):  0.8919654552985887\n",
      "RMSE:  2.85306216644376\n"
     ]
    }
   ],
   "source": [
    "from sklearn.metrics import r2_score\n",
    "\n",
    "# Predicting Cross Validation Score the Test set results\n",
    "cv_ridge = cross_val_score(estimator = ridge_pipe, X = X_train, y = y_train.ravel(), cv = 10)\n",
    "\n",
    "# Predicting R2 Score the Test set results\n",
    "y_pred_ridge_train = ridge_pipe.predict(X_train)\n",
    "r2_score_ridge_train = r2_score(y_train, y_pred_ridge_train)\n",
    "\n",
    "# Predicting R2 Score the Test set results\n",
    "y_pred_ridge_test = ridge_pipe.predict(X_test)\n",
    "r2_score_ridge_test = r2_score(y_test, y_pred_ridge_test)\n",
    "\n",
    "# Predicting RMSE the Test set results\n",
    "rmse_ridge = (np.sqrt(mean_squared_error(y_test, y_pred_ridge_test)))\n",
    "print('CV: ', cv_ridge.mean())\n",
    "print('R2_score (train): ', r2_score_ridge_train)\n",
    "print('R2_score (test): ', r2_score_ridge_test)\n",
    "print(\"RMSE: \", rmse_ridge)"
   ]
  },
  {
   "cell_type": "markdown",
   "metadata": {},
   "source": [
    "### <span id=\"10\"></span> ** Lasso Regression **"
   ]
  },
  {
   "cell_type": "code",
   "execution_count": 104,
   "metadata": {},
   "outputs": [
    {
     "name": "stderr",
     "output_type": "stream",
     "text": [
      "C:\\Users\\aipc\\AppData\\Roaming\\Python\\Python37\\site-packages\\sklearn\\pipeline.py:356: DataConversionWarning: A column-vector y was passed when a 1d array was expected. Please change the shape of y to (n_samples,), for example using ravel().\n",
      "  self._final_estimator.fit(Xt, y, **fit_params)\n"
     ]
    },
    {
     "data": {
      "text/plain": [
       "Pipeline(memory=None,\n",
       "         steps=[('scalar',\n",
       "                 StandardScaler(copy=True, with_mean=True, with_std=True)),\n",
       "                ('poly',\n",
       "                 PolynomialFeatures(degree=2, include_bias=True,\n",
       "                                    interaction_only=False, order='C')),\n",
       "                ('model',\n",
       "                 RandomForestRegressor(bootstrap=True, criterion='mse',\n",
       "                                       max_depth=None, max_features='auto',\n",
       "                                       max_leaf_nodes=None,\n",
       "                                       min_impurity_decrease=0.0,\n",
       "                                       min_impurity_split=None,\n",
       "                                       min_samples_leaf=1, min_samples_split=2,\n",
       "                                       min_weight_fraction_leaf=0.0,\n",
       "                                       n_estimators=500, n_jobs=None,\n",
       "                                       oob_score=False, random_state=0,\n",
       "                                       verbose=0, warm_start=False))],\n",
       "         verbose=False)"
      ]
     },
     "execution_count": 104,
     "metadata": {},
     "output_type": "execute_result"
    }
   ],
   "source": [
    "from sklearn.linear_model import Lasso\n",
    "from sklearn.preprocessing import StandardScaler\n",
    "from sklearn.pipeline import Pipeline\n",
    "from sklearn.preprocessing import PolynomialFeatures\n",
    "\n",
    "steps = [\n",
    "    ('scalar', StandardScaler()),\n",
    "    ('poly', PolynomialFeatures(degree=2)),\n",
    "    ('model', Lasso(alpha=0.012, fit_intercept=True, max_iter=3000))\n",
    "]\n",
    "\n",
    "lasso_pipe = Pipeline(steps)\n",
    "lasso_pipe.fit(X_train, y_train)"
   ]
  },
  {
   "cell_type": "code",
   "execution_count": 105,
   "metadata": {},
   "outputs": [
    {
     "name": "stderr",
     "output_type": "stream",
     "text": [
      "C:\\Users\\aipc\\AppData\\Roaming\\Python\\Python37\\site-packages\\sklearn\\pipeline.py:356: DataConversionWarning: A column-vector y was passed when a 1d array was expected. Please change the shape of y to (n_samples,), for example using ravel().\n",
      "  self._final_estimator.fit(Xt, y, **fit_params)\n",
      "C:\\Users\\aipc\\AppData\\Roaming\\Python\\Python37\\site-packages\\sklearn\\pipeline.py:356: DataConversionWarning: A column-vector y was passed when a 1d array was expected. Please change the shape of y to (n_samples,), for example using ravel().\n",
      "  self._final_estimator.fit(Xt, y, **fit_params)\n",
      "C:\\Users\\aipc\\AppData\\Roaming\\Python\\Python37\\site-packages\\sklearn\\pipeline.py:356: DataConversionWarning: A column-vector y was passed when a 1d array was expected. Please change the shape of y to (n_samples,), for example using ravel().\n",
      "  self._final_estimator.fit(Xt, y, **fit_params)\n",
      "C:\\Users\\aipc\\AppData\\Roaming\\Python\\Python37\\site-packages\\sklearn\\pipeline.py:356: DataConversionWarning: A column-vector y was passed when a 1d array was expected. Please change the shape of y to (n_samples,), for example using ravel().\n",
      "  self._final_estimator.fit(Xt, y, **fit_params)\n",
      "C:\\Users\\aipc\\AppData\\Roaming\\Python\\Python37\\site-packages\\sklearn\\pipeline.py:356: DataConversionWarning: A column-vector y was passed when a 1d array was expected. Please change the shape of y to (n_samples,), for example using ravel().\n",
      "  self._final_estimator.fit(Xt, y, **fit_params)\n",
      "C:\\Users\\aipc\\AppData\\Roaming\\Python\\Python37\\site-packages\\sklearn\\pipeline.py:356: DataConversionWarning: A column-vector y was passed when a 1d array was expected. Please change the shape of y to (n_samples,), for example using ravel().\n",
      "  self._final_estimator.fit(Xt, y, **fit_params)\n",
      "C:\\Users\\aipc\\AppData\\Roaming\\Python\\Python37\\site-packages\\sklearn\\pipeline.py:356: DataConversionWarning: A column-vector y was passed when a 1d array was expected. Please change the shape of y to (n_samples,), for example using ravel().\n",
      "  self._final_estimator.fit(Xt, y, **fit_params)\n",
      "C:\\Users\\aipc\\AppData\\Roaming\\Python\\Python37\\site-packages\\sklearn\\pipeline.py:356: DataConversionWarning: A column-vector y was passed when a 1d array was expected. Please change the shape of y to (n_samples,), for example using ravel().\n",
      "  self._final_estimator.fit(Xt, y, **fit_params)\n",
      "C:\\Users\\aipc\\AppData\\Roaming\\Python\\Python37\\site-packages\\sklearn\\pipeline.py:356: DataConversionWarning: A column-vector y was passed when a 1d array was expected. Please change the shape of y to (n_samples,), for example using ravel().\n",
      "  self._final_estimator.fit(Xt, y, **fit_params)\n",
      "C:\\Users\\aipc\\AppData\\Roaming\\Python\\Python37\\site-packages\\sklearn\\pipeline.py:356: DataConversionWarning: A column-vector y was passed when a 1d array was expected. Please change the shape of y to (n_samples,), for example using ravel().\n",
      "  self._final_estimator.fit(Xt, y, **fit_params)\n"
     ]
    },
    {
     "name": "stdout",
     "output_type": "stream",
     "text": [
      "CV:  0.8149079574686231\n",
      "R2_score (train):  0.975424575610502\n",
      "R2_score (test):  0.8387381037049645\n",
      "RMSE:  3.485746443846629\n"
     ]
    }
   ],
   "source": [
    "from sklearn.metrics import r2_score\n",
    "\n",
    "# Predicting Cross Validation Score\n",
    "cv_lasso = cross_val_score(estimator = lasso_pipe, X = X_train, y = y_train, cv = 10)\n",
    "\n",
    "# Predicting R2 Score the Test set results\n",
    "y_pred_lasso_train = lasso_pipe.predict(X_train)\n",
    "r2_score_lasso_train = r2_score(y_train, y_pred_lasso_train)\n",
    "\n",
    "# Predicting R2 Score the Test set results\n",
    "y_pred_lasso_test = lasso_pipe.predict(X_test)\n",
    "r2_score_lasso_test = r2_score(y_test, y_pred_lasso_test)\n",
    "\n",
    "# Predicting RMSE the Test set results\n",
    "rmse_lasso = (np.sqrt(mean_squared_error(y_test, y_pred_lasso_test)))\n",
    "print('CV: ', cv_lasso.mean())\n",
    "print('R2_score (train): ', r2_score_lasso_train)\n",
    "print('R2_score (test): ', r2_score_lasso_test)\n",
    "print(\"RMSE: \", rmse_lasso)"
   ]
  },
  {
   "cell_type": "markdown",
   "metadata": {},
   "source": [
    "### <span id=\"11\"></span> ** Support Vector Regression **"
   ]
  },
  {
   "cell_type": "code",
   "execution_count": 84,
   "metadata": {},
   "outputs": [],
   "source": [
    "# Feature Scaling\n",
    "from sklearn.preprocessing import StandardScaler\n",
    "sc_X = StandardScaler()\n",
    "sc_y = StandardScaler()\n",
    "X_scaled = sc_X.fit_transform(X_train)\n",
    "y_scaled = sc_y.fit_transform(y_train.reshape(-1,1))"
   ]
  },
  {
   "cell_type": "code",
   "execution_count": 85,
   "metadata": {},
   "outputs": [
    {
     "data": {
      "text/plain": [
       "SVR(C=1.0, cache_size=200, coef0=0.0, degree=3, epsilon=0.1, gamma='scale',\n",
       "    kernel='rbf', max_iter=-1, shrinking=True, tol=0.001, verbose=False)"
      ]
     },
     "execution_count": 85,
     "metadata": {},
     "output_type": "execute_result"
    }
   ],
   "source": [
    "# Fitting the SVR Model to the dataset\n",
    "from sklearn.svm import SVR\n",
    "regressor_svr = SVR(kernel = 'rbf', gamma = 'scale')\n",
    "regressor_svr.fit(X_scaled, y_scaled.ravel())"
   ]
  },
  {
   "cell_type": "code",
   "execution_count": 86,
   "metadata": {},
   "outputs": [
    {
     "name": "stdout",
     "output_type": "stream",
     "text": [
      "CV:  0.782600693247584\n",
      "R2_score (train):  0.8742715669147498\n",
      "R2_score (test):  0.8044070157723574\n",
      "RMSE:  3.8388977809328355\n"
     ]
    }
   ],
   "source": [
    "from sklearn.metrics import r2_score\n",
    "\n",
    "# Predicting Cross Validation Score\n",
    "cv_svr = cross_val_score(estimator = regressor_svr, X = X_scaled, y = y_scaled.ravel(), cv = 10)\n",
    "\n",
    "# Predicting R2 Score the Train set results\n",
    "y_pred_svr_train = sc_y.inverse_transform(regressor_svr.predict(sc_X.transform(X_train)))\n",
    "r2_score_svr_train = r2_score(y_train, y_pred_svr_train)\n",
    "\n",
    "# Predicting R2 Score the Test set results\n",
    "y_pred_svr_test = sc_y.inverse_transform(regressor_svr.predict(sc_X.transform(X_test)))\n",
    "r2_score_svr_test = r2_score(y_test, y_pred_svr_test)\n",
    "\n",
    "# Predicting RMSE the Test set results\n",
    "rmse_svr = (np.sqrt(mean_squared_error(y_test, y_pred_svr_test)))\n",
    "print('CV: ', cv_svr.mean())\n",
    "print('R2_score (train): ', r2_score_svr_train)\n",
    "print('R2_score (test): ', r2_score_svr_test)\n",
    "print(\"RMSE: \", rmse_svr)"
   ]
  },
  {
   "cell_type": "markdown",
   "metadata": {},
   "source": [
    "### <span id=\"12\"></span> ** Decision Tree Regression **"
   ]
  },
  {
   "cell_type": "code",
   "execution_count": 87,
   "metadata": {},
   "outputs": [
    {
     "data": {
      "text/plain": [
       "DecisionTreeRegressor(criterion='mse', max_depth=None, max_features=None,\n",
       "                      max_leaf_nodes=None, min_impurity_decrease=0.0,\n",
       "                      min_impurity_split=None, min_samples_leaf=1,\n",
       "                      min_samples_split=2, min_weight_fraction_leaf=0.0,\n",
       "                      presort=False, random_state=0, splitter='best')"
      ]
     },
     "execution_count": 87,
     "metadata": {},
     "output_type": "execute_result"
    }
   ],
   "source": [
    "# Fitting the Decision Tree Regression Model to the dataset\n",
    "from sklearn.tree import DecisionTreeRegressor\n",
    "regressor_dt = DecisionTreeRegressor(random_state = 0)\n",
    "regressor_dt.fit(X_train, y_train)"
   ]
  },
  {
   "cell_type": "code",
   "execution_count": 88,
   "metadata": {},
   "outputs": [
    {
     "name": "stdout",
     "output_type": "stream",
     "text": [
      "CV:  0.6132952528840396\n",
      "R2_score (train):  1.0\n",
      "R2_score (test):  0.5651827698910026\n",
      "RMSE:  5.723784633117829\n"
     ]
    }
   ],
   "source": [
    "from sklearn.metrics import r2_score\n",
    "\n",
    "# Predicting Cross Validation Score\n",
    "cv_dt = cross_val_score(estimator = regressor_dt, X = X_train, y = y_train, cv = 10)\n",
    "\n",
    "# Predicting R2 Score the Train set results\n",
    "y_pred_dt_train = regressor_dt.predict(X_train)\n",
    "r2_score_dt_train = r2_score(y_train, y_pred_dt_train)\n",
    "\n",
    "# Predicting R2 Score the Test set results\n",
    "y_pred_dt_test = regressor_dt.predict(X_test)\n",
    "r2_score_dt_test = r2_score(y_test, y_pred_dt_test)\n",
    "\n",
    "# Predicting RMSE the Test set results\n",
    "rmse_dt = (np.sqrt(mean_squared_error(y_test, y_pred_dt_test)))\n",
    "print('CV: ', cv_dt.mean())\n",
    "print('R2_score (train): ', r2_score_dt_train)\n",
    "print('R2_score (test): ', r2_score_dt_test)\n",
    "print(\"RMSE: \", rmse_dt)"
   ]
  },
  {
   "cell_type": "markdown",
   "metadata": {},
   "source": [
    "### <span id=\"13\"></span> ** Random Forest Regression **"
   ]
  },
  {
   "cell_type": "code",
   "execution_count": 89,
   "metadata": {},
   "outputs": [
    {
     "data": {
      "text/plain": [
       "RandomForestRegressor(bootstrap=True, criterion='mse', max_depth=None,\n",
       "                      max_features='auto', max_leaf_nodes=None,\n",
       "                      min_impurity_decrease=0.0, min_impurity_split=None,\n",
       "                      min_samples_leaf=1, min_samples_split=2,\n",
       "                      min_weight_fraction_leaf=0.0, n_estimators=500,\n",
       "                      n_jobs=None, oob_score=False, random_state=0, verbose=0,\n",
       "                      warm_start=False)"
      ]
     },
     "execution_count": 89,
     "metadata": {},
     "output_type": "execute_result"
    }
   ],
   "source": [
    "# Fitting the Random Forest Regression to the dataset\n",
    "from sklearn.ensemble import RandomForestRegressor\n",
    "regressor_rf = RandomForestRegressor(n_estimators = 500, random_state = 0)\n",
    "regressor_rf.fit(X_train, y_train.ravel())"
   ]
  },
  {
   "cell_type": "code",
   "execution_count": 90,
   "metadata": {},
   "outputs": [
    {
     "name": "stdout",
     "output_type": "stream",
     "text": [
      "CV:  0.8186773804480831\n",
      "R2_score (train):  0.9767171971614779\n",
      "R2_score (test):  0.8631175273596177\n",
      "RMSE:  3.21146972797256\n"
     ]
    }
   ],
   "source": [
    "from sklearn.metrics import r2_score\n",
    "\n",
    "# Predicting Cross Validation Score\n",
    "cv_rf = cross_val_score(estimator = regressor_rf, X = X_scaled, y = y_train.ravel(), cv = 10)\n",
    "\n",
    "# Predicting R2 Score the Train set results\n",
    "y_pred_rf_train = regressor_rf.predict(X_train)\n",
    "r2_score_rf_train = r2_score(y_train, y_pred_rf_train)\n",
    "\n",
    "# Predicting R2 Score the Test set results\n",
    "y_pred_rf_test = regressor_rf.predict(X_test)\n",
    "r2_score_rf_test = r2_score(y_test, y_pred_rf_test)\n",
    "\n",
    "# Predicting RMSE the Test set results\n",
    "rmse_rf = (np.sqrt(mean_squared_error(y_test, y_pred_rf_test)))\n",
    "print('CV: ', cv_rf.mean())\n",
    "print('R2_score (train): ', r2_score_rf_train)\n",
    "print('R2_score (test): ', r2_score_rf_test)\n",
    "print(\"RMSE: \", rmse_rf)"
   ]
  },
  {
   "cell_type": "markdown",
   "metadata": {},
   "source": [
    "## <span id=\"14\"></span> ** 5. Measuring the Error **"
   ]
  },
  {
   "cell_type": "code",
   "execution_count": 91,
   "metadata": {},
   "outputs": [],
   "source": [
    "models = [('Linear Regression', rmse_linear, r2_score_linear_train, r2_score_linear_test, cv_linear.mean()),\n",
    "          ('Polynomial Regression (2nd)', rmse_poly2, r2_score_poly2_train, r2_score_poly2_test, cv_poly2.mean()),\n",
    "          ('Ridge Regression', rmse_ridge, r2_score_ridge_train, r2_score_ridge_test, cv_ridge.mean()),\n",
    "          ('Lasso Regression', rmse_lasso, r2_score_lasso_train, r2_score_lasso_test, cv_lasso.mean()),\n",
    "          ('Support Vector Regression', rmse_svr, r2_score_svr_train, r2_score_svr_test, cv_svr.mean()),\n",
    "          ('Decision Tree Regression', rmse_dt, r2_score_dt_train, r2_score_dt_test, cv_dt.mean()),\n",
    "          ('Random Forest Regression', rmse_rf, r2_score_rf_train, r2_score_rf_test, cv_rf.mean())   \n",
    "         ]"
   ]
  },
  {
   "cell_type": "code",
   "execution_count": 92,
   "metadata": {},
   "outputs": [
    {
     "data": {
      "text/html": [
       "<div>\n",
       "<style scoped>\n",
       "    .dataframe tbody tr th:only-of-type {\n",
       "        vertical-align: middle;\n",
       "    }\n",
       "\n",
       "    .dataframe tbody tr th {\n",
       "        vertical-align: top;\n",
       "    }\n",
       "\n",
       "    .dataframe thead th {\n",
       "        text-align: right;\n",
       "    }\n",
       "</style>\n",
       "<table border=\"1\" class=\"dataframe\">\n",
       "  <thead>\n",
       "    <tr style=\"text-align: right;\">\n",
       "      <th></th>\n",
       "      <th>Model</th>\n",
       "      <th>RMSE</th>\n",
       "      <th>R2_Score(training)</th>\n",
       "      <th>R2_Score(test)</th>\n",
       "      <th>Cross-Validation</th>\n",
       "    </tr>\n",
       "  </thead>\n",
       "  <tbody>\n",
       "    <tr>\n",
       "      <th>0</th>\n",
       "      <td>Linear Regression</td>\n",
       "      <td>4.647280</td>\n",
       "      <td>0.743579</td>\n",
       "      <td>0.713359</td>\n",
       "      <td>0.696564</td>\n",
       "    </tr>\n",
       "    <tr>\n",
       "      <th>1</th>\n",
       "      <td>Polynomial Regression (2nd)</td>\n",
       "      <td>4.670750</td>\n",
       "      <td>0.927421</td>\n",
       "      <td>0.710457</td>\n",
       "      <td>0.698485</td>\n",
       "    </tr>\n",
       "    <tr>\n",
       "      <th>2</th>\n",
       "      <td>Ridge Regression</td>\n",
       "      <td>2.853062</td>\n",
       "      <td>0.922818</td>\n",
       "      <td>0.891965</td>\n",
       "      <td>0.763563</td>\n",
       "    </tr>\n",
       "    <tr>\n",
       "      <th>3</th>\n",
       "      <td>Lasso Regression</td>\n",
       "      <td>2.811451</td>\n",
       "      <td>0.923402</td>\n",
       "      <td>0.895094</td>\n",
       "      <td>0.750544</td>\n",
       "    </tr>\n",
       "    <tr>\n",
       "      <th>4</th>\n",
       "      <td>Support Vector Regression</td>\n",
       "      <td>3.838898</td>\n",
       "      <td>0.874272</td>\n",
       "      <td>0.804407</td>\n",
       "      <td>0.782601</td>\n",
       "    </tr>\n",
       "    <tr>\n",
       "      <th>5</th>\n",
       "      <td>Decision Tree Regression</td>\n",
       "      <td>5.723785</td>\n",
       "      <td>1.000000</td>\n",
       "      <td>0.565183</td>\n",
       "      <td>0.613295</td>\n",
       "    </tr>\n",
       "    <tr>\n",
       "      <th>6</th>\n",
       "      <td>Random Forest Regression</td>\n",
       "      <td>3.211470</td>\n",
       "      <td>0.976717</td>\n",
       "      <td>0.863118</td>\n",
       "      <td>0.818677</td>\n",
       "    </tr>\n",
       "  </tbody>\n",
       "</table>\n",
       "</div>"
      ],
      "text/plain": [
       "                         Model      RMSE  R2_Score(training)  R2_Score(test)  \\\n",
       "0            Linear Regression  4.647280            0.743579        0.713359   \n",
       "1  Polynomial Regression (2nd)  4.670750            0.927421        0.710457   \n",
       "2             Ridge Regression  2.853062            0.922818        0.891965   \n",
       "3             Lasso Regression  2.811451            0.923402        0.895094   \n",
       "4    Support Vector Regression  3.838898            0.874272        0.804407   \n",
       "5     Decision Tree Regression  5.723785            1.000000        0.565183   \n",
       "6     Random Forest Regression  3.211470            0.976717        0.863118   \n",
       "\n",
       "   Cross-Validation  \n",
       "0          0.696564  \n",
       "1          0.698485  \n",
       "2          0.763563  \n",
       "3          0.750544  \n",
       "4          0.782601  \n",
       "5          0.613295  \n",
       "6          0.818677  "
      ]
     },
     "execution_count": 92,
     "metadata": {},
     "output_type": "execute_result"
    }
   ],
   "source": [
    "predict = pd.DataFrame(data = models, columns=['Model', 'RMSE', 'R2_Score(training)', 'R2_Score(test)', 'Cross-Validation'])\n",
    "predict"
   ]
  },
  {
   "cell_type": "markdown",
   "metadata": {},
   "source": [
    "### <span id=\"15\"></span> ** Visualizing Model Performance **"
   ]
  },
  {
   "cell_type": "code",
   "execution_count": 93,
   "metadata": {},
   "outputs": [
    {
     "data": {
      "image/png": "[encoded data removed]",
      "text/plain": [
       "<Figure size 1296x432 with 1 Axes>"
      ]
     },
     "metadata": {},
     "output_type": "display_data"
    }
   ],
   "source": [
    "f, axe = plt.subplots(1,1, figsize=(18,6))\n",
    "\n",
    "predict.sort_values(by=['Cross-Validation'], ascending=False, inplace=True)\n",
    "\n",
    "sns.barplot(x='Cross-Validation', y='Model', data = predict, ax = axe)\n",
    "#axes[0].set(xlabel='Region', ylabel='Charges')\n",
    "axe.set_xlabel('Cross-Validaton Score', size=16)\n",
    "axe.set_ylabel('Model')\n",
    "axe.set_xlim(0,1.0)\n",
    "plt.show()"
   ]
  },
  {
   "cell_type": "code",
   "execution_count": 94,
   "metadata": {},
   "outputs": [
    {
     "data": {
      "image/png": "[encoded data removed]",
      "text/plain": [
       "<Figure size 1008x720 with 2 Axes>"
      ]
     },
     "metadata": {},
     "output_type": "display_data"
    }
   ],
   "source": [
    "f, axes = plt.subplots(2,1, figsize=(14,10))\n",
    "\n",
    "predict.sort_values(by=['R2_Score(training)'], ascending=False, inplace=True)\n",
    "\n",
    "sns.barplot(x='R2_Score(training)', y='Model', data = predict, palette='Blues_d', ax = axes[0])\n",
    "#axes[0].set(xlabel='Region', ylabel='Charges')\n",
    "axes[0].set_xlabel('R2 Score (Training)', size=16)\n",
    "axes[0].set_ylabel('Model')\n",
    "axes[0].set_xlim(0,1.0)\n",
    "\n",
    "predict.sort_values(by=['R2_Score(test)'], ascending=False, inplace=True)\n",
    "\n",
    "sns.barplot(x='R2_Score(test)', y='Model', data = predict, palette='Reds_d', ax = axes[1])\n",
    "#axes[0].set(xlabel='Region', ylabel='Charges')\n",
    "axes[1].set_xlabel('R2 Score (Test)', size=16)\n",
    "axes[1].set_ylabel('Model')\n",
    "axes[1].set_xlim(0,1.0)\n",
    "\n",
    "plt.show()"
   ]
  },
  {
   "cell_type": "code",
   "execution_count": 95,
   "metadata": {},
   "outputs": [
    {
     "data": {
      "image/png": "[encoded data removed]",
      "text/plain": [
       "<Figure size 1296x432 with 1 Axes>"
      ]
     },
     "metadata": {},
     "output_type": "display_data"
    }
   ],
   "source": [
    "predict.sort_values(by=['RMSE'], ascending=False, inplace=True)\n",
    "\n",
    "f, axe = plt.subplots(1,1, figsize=(18,6))\n",
    "sns.barplot(x='Model', y='RMSE', data=predict, ax = axe)\n",
    "axe.set_xlabel('Model', size=16)\n",
    "axe.set_ylabel('RMSE', size=16)\n",
    "\n",
    "plt.show()"
   ]
  },
  {
   "cell_type": "markdown",
   "metadata": {},
   "source": [
    "## <span id=\"16\"></span> ** 6. Conclusion **"
   ]
  },
  {
   "cell_type": "markdown",
   "metadata": {},
   "source": [
    "In this kernel, I have built 7 regression models using Boston Housing Dataset. These are linear, polynomial, ridge, lasso,  svr, decision tree and random forest regression. Then measured and visualized the performance of the models. Please make a comment and let me know how to improve model performance, visualization or something in this kernel. This will also help me on my future analysis.\n",
    "\n",
    "<b><font color=\"red\">Don't forget to </font></b> <b><font color=\"green\">UPVOTE </font></b> if you liked this kernel, thank you. 🙂👍"
   ]
  }
 ],
 "metadata": {
  "kernelspec": {
   "display_name": "Python 3",
   "language": "python",
   "name": "python3"
  },
  "language_info": {
   "codemirror_mode": {
    "name": "ipython",
    "version": 3
   },
   "file_extension": ".py",
   "mimetype": "text/x-python",
   "name": "python",
   "nbconvert_exporter": "python",
   "pygments_lexer": "ipython3",
   "version": "3.7.3"
  }
 },
 "nbformat": 4,
 "nbformat_minor": 1
}
