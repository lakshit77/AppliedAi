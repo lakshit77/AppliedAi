{
 "cells": [
  {
   "cell_type": "markdown",
   "metadata": {
    "colab_type": "text",
    "id": "s0Ej_bXyQvnV"
   },
   "source": [
    "# Compute performance metrics for the given Y and Y_score without sklearn"
   ]
  },
  {
   "cell_type": "code",
   "execution_count": 1,
   "metadata": {
    "colab": {},
    "colab_type": "code",
    "id": "4CHb6NE7Qvnc"
   },
   "outputs": [],
   "source": [
    "import numpy as np\n",
    "import pandas as pd\n",
    "# other than these two you should not import any other packages"
   ]
  },
  {
   "cell_type": "markdown",
   "metadata": {
    "colab_type": "text",
    "id": "KbsWXuDaQvnq"
   },
   "source": [
    "<pre>\n",
    "<font color='red'><b>A.</b></font> Compute performance metrics for the given data <strong>5_a.csv</strong>\n",
    "   <b>Note 1:</b> in this data you can see number of positive points >> number of negatives points\n",
    "   <b>Note 2:</b> use pandas or numpy to read the data from <b>5_a.csv</b>\n",
    "   <b>Note 3:</b> you need to derive the class labels from given score</pre> $y^{pred}= \\text{[0 if y_score < 0.5 else 1]}$\n",
    "\n",
    "<pre>\n",
    "<ol>\n",
    "<li> Compute Confusion Matrix </li>\n",
    "<li> Compute F1 Score </li>\n",
    "<li> Compute AUC Score, you need to compute different thresholds and for each threshold compute tpr,fpr and then use               numpy.trapz(tpr_array, fpr_array) <a href='https://stackoverflow.com/q/53603376/4084039'>https://stackoverflow.com/q/53603376/4084039</a>, <a href='https://stackoverflow.com/a/39678975/4084039'>https://stackoverflow.com/a/39678975/4084039</a> Note: it should be numpy.trapz(tpr_array, fpr_array) not numpy.trapz(fpr_array, tpr_array)</li>\n",
    "<li> Compute Accuracy Score </li>\n",
    "</ol>\n",
    "</pre>"
   ]
  },
  {
   "cell_type": "code",
   "execution_count": 2,
   "metadata": {},
   "outputs": [],
   "source": [
    "def confusion_matrix(y, yhat):\n",
    "    TP = ((y == 1) & (yhat==1)).sum()\n",
    "    TN = ((y == 0) & (yhat==0)).sum()\n",
    "    FP = ((y == 0) & (yhat==1)).sum()\n",
    "    FN = ((y == 1) & (yhat==0)).sum()\n",
    "    return TP, TN, FP, FN\n",
    "def Precision(y, yhat):\n",
    "    TP, TN, FP, FN = confusion_matrix(y, yhat)\n",
    "    return TP/(TP+FP)\n",
    "def Recall(y, yhat):\n",
    "    TP, TN, FP, FN = confusion_matrix(y, yhat)\n",
    "    return TP/(TP+FN)\n",
    "def F1score(y, yhat):\n",
    "    precision = Precision(y,yhat)\n",
    "    recall = Recall(y,yhat)\n",
    "    return (2 * (precision*recall))/(precision+recall)\n",
    "def Acccuracy(y, yhat):\n",
    "    TP, TN, FP, FN = confusion_matrix(y, yhat)\n",
    "    return (TP+TN)/(TP+TN+FP+FN)\n",
    "def TPR(y,yhat):\n",
    "    TP, TN, FP, FN = confusion_matrix(y, yhat)\n",
    "    return TP/(TP+FN)\n",
    "def FPR(y,yhat):\n",
    "    TP, TN, FP, FN = confusion_matrix(y, yhat)\n",
    "    return FP/(TN+FP)\n",
    "def AUC(y,yhat_prob):\n",
    "    FPR_array = []\n",
    "    TPR_array = []\n",
    "    for threshold in np.arange(0,1,0.001):\n",
    "        yhat = yhat_prob.apply(lambda a : 1 if a > threshold else 0)\n",
    "        TP, TN, FP, FN = confusion_matrix(y, yhat)\n",
    "        tpr = TPR(y,yhat)\n",
    "        fpr = 1 - FPR(y,yhat)\n",
    "        FPR_array.append(fpr)\n",
    "        TPR_array.append(tpr)\n",
    "    return abs(np.trapz(FPR_array,TPR_array))"
   ]
  },
  {
   "cell_type": "code",
   "execution_count": 3,
   "metadata": {
    "colab": {},
    "colab_type": "code",
    "id": "WaFLW7oBQvnt"
   },
   "outputs": [],
   "source": [
    "data_5_a = pd.read_csv(r'D:\\appliedai\\AppliedAi/5_a.csv')"
   ]
  },
  {
   "cell_type": "code",
   "execution_count": 4,
   "metadata": {},
   "outputs": [],
   "source": [
    "data_5_a['proba_class'] = data_5_a['proba'].apply(lambda a : 1 if a > 0.5 else 0)"
   ]
  },
  {
   "cell_type": "code",
   "execution_count": 5,
   "metadata": {},
   "outputs": [],
   "source": [
    "data_5_a['y'] = data_5_a['y'].astype(int)\n",
    "data_5_a['proba_class'] = data_5_a['proba_class'].astype(int)"
   ]
  },
  {
   "cell_type": "code",
   "execution_count": 6,
   "metadata": {},
   "outputs": [
    {
     "data": {
      "text/html": [
       "<div>\n",
       "<style scoped>\n",
       "    .dataframe tbody tr th:only-of-type {\n",
       "        vertical-align: middle;\n",
       "    }\n",
       "\n",
       "    .dataframe tbody tr th {\n",
       "        vertical-align: top;\n",
       "    }\n",
       "\n",
       "    .dataframe thead th {\n",
       "        text-align: right;\n",
       "    }\n",
       "</style>\n",
       "<table border=\"1\" class=\"dataframe\">\n",
       "  <thead>\n",
       "    <tr style=\"text-align: right;\">\n",
       "      <th></th>\n",
       "      <th>y</th>\n",
       "      <th>proba</th>\n",
       "      <th>proba_class</th>\n",
       "    </tr>\n",
       "  </thead>\n",
       "  <tbody>\n",
       "    <tr>\n",
       "      <th>0</th>\n",
       "      <td>1</td>\n",
       "      <td>0.637387</td>\n",
       "      <td>1</td>\n",
       "    </tr>\n",
       "    <tr>\n",
       "      <th>1</th>\n",
       "      <td>1</td>\n",
       "      <td>0.635165</td>\n",
       "      <td>1</td>\n",
       "    </tr>\n",
       "    <tr>\n",
       "      <th>2</th>\n",
       "      <td>1</td>\n",
       "      <td>0.766586</td>\n",
       "      <td>1</td>\n",
       "    </tr>\n",
       "    <tr>\n",
       "      <th>3</th>\n",
       "      <td>1</td>\n",
       "      <td>0.724564</td>\n",
       "      <td>1</td>\n",
       "    </tr>\n",
       "    <tr>\n",
       "      <th>4</th>\n",
       "      <td>1</td>\n",
       "      <td>0.889199</td>\n",
       "      <td>1</td>\n",
       "    </tr>\n",
       "  </tbody>\n",
       "</table>\n",
       "</div>"
      ],
      "text/plain": [
       "   y     proba  proba_class\n",
       "0  1  0.637387            1\n",
       "1  1  0.635165            1\n",
       "2  1  0.766586            1\n",
       "3  1  0.724564            1\n",
       "4  1  0.889199            1"
      ]
     },
     "execution_count": 6,
     "metadata": {},
     "output_type": "execute_result"
    }
   ],
   "source": [
    "data_5_a.head()"
   ]
  },
  {
   "cell_type": "code",
   "execution_count": 7,
   "metadata": {},
   "outputs": [
    {
     "name": "stdout",
     "output_type": "stream",
     "text": [
      "Confusion Matrix : \n",
      "                 Predicted:true  Predicted:False\n",
      "Actual : True            10000              100\n",
      "Actual : False               0                0\n",
      "F1 score: 0.9950248756218906\n",
      "Accuracy: 0.9900990099009901\n",
      "Area under the curve (auc): 0.488309\n"
     ]
    }
   ],
   "source": [
    "TP, TN, FP, FN = confusion_matrix(data_5_a['y'], data_5_a['proba_class'])\n",
    "\n",
    "f1score = F1score(data_5_a['y'], data_5_a['proba_class'])\n",
    "\n",
    "acc = Acccuracy(data_5_a['y'], data_5_a['proba_class'])\n",
    "\n",
    "auc = AUC(data_5_a['y'], data_5_a['proba'])\n",
    "cm = pd.DataFrame({'Predicted:true':[TP, FN], 'Predicted:False':[FP, TN]},index = ['Actual : True','Actual : False'])\n",
    "print(\"Confusion Matrix : \\n\", cm)\n",
    "print(\"F1 score: {}\".format(f1score))\n",
    "print(\"Accuracy: {}\".format(acc))\n",
    "print(\"Area under the curve (auc): {}\".format(auc))"
   ]
  },
  {
   "cell_type": "markdown",
   "metadata": {
    "colab_type": "text",
    "id": "V5KZem1BQvn2"
   },
   "source": [
    "<pre>\n",
    "<font color='red'><b>B.</b></font> Compute performance metrics for the given data <strong>5_b.csv</strong>\n",
    "   <b>Note 1:</b> in this data you can see number of positive points << number of negatives points\n",
    "   <b>Note 2:</b> use pandas or numpy to read the data from <b>5_b.csv</b>\n",
    "   <b>Note 3:</b> you need to derive the class labels from given score</pre> $y^{pred}= \\text{[0 if y_score < 0.5 else 1]}$\n",
    "\n",
    "<pre>\n",
    "<ol>\n",
    "<li> Compute Confusion Matrix </li>\n",
    "<li> Compute F1 Score </li>\n",
    "<li> Compute AUC Score, you need to compute different thresholds and for each threshold compute tpr,fpr and then use               numpy.trapz(tpr_array, fpr_array) <a href='https://stackoverflow.com/q/53603376/4084039'>https://stackoverflow.com/q/53603376/4084039</a>, <a href='https://stackoverflow.com/a/39678975/4084039'>https://stackoverflow.com/a/39678975/4084039</a></li>\n",
    "<li> Compute Accuracy Score </li>\n",
    "</ol>\n",
    "</pre>"
   ]
  },
  {
   "cell_type": "code",
   "execution_count": 8,
   "metadata": {
    "colab": {},
    "colab_type": "code",
    "id": "U2sKlq0YQvn5"
   },
   "outputs": [],
   "source": [
    "data_5_b = pd.read_csv(r'D:\\appliedai\\AppliedAi/5_b.csv')"
   ]
  },
  {
   "cell_type": "code",
   "execution_count": 9,
   "metadata": {},
   "outputs": [],
   "source": [
    "data_5_b['proba_class'] = data_5_b['proba'].apply(lambda a : 1 if a > 0.5 else 0)"
   ]
  },
  {
   "cell_type": "code",
   "execution_count": 10,
   "metadata": {},
   "outputs": [],
   "source": [
    "data_5_b['y'] = data_5_b['y'].astype(int)\n",
    "data_5_b['proba_class'] = data_5_b['proba_class'].astype(int)"
   ]
  },
  {
   "cell_type": "code",
   "execution_count": 11,
   "metadata": {},
   "outputs": [
    {
     "name": "stdout",
     "output_type": "stream",
     "text": [
      "Confusion Matrix : \n",
      "                 Predicted:true  Predicted:False\n",
      "Actual : True               55              239\n",
      "Actual : False              45             9761\n",
      "F1 score: 0.2791878172588833\n",
      "Accuracy: 0.9718811881188119\n",
      "Area under the curve (auc): 0.9377150000000001\n"
     ]
    }
   ],
   "source": [
    "TP, TN, FP, FN = confusion_matrix(data_5_b['y'], data_5_b['proba_class'])\n",
    "f1score = F1score(data_5_b['y'], data_5_b['proba_class'])\n",
    "acc = Acccuracy(data_5_b['y'], data_5_b['proba_class'])\n",
    "auc = AUC(data_5_b['y'], data_5_b['proba'])\n",
    "cm = pd.DataFrame({'Predicted:true':[TP, FN], 'Predicted:False':[FP, TN]},index = ['Actual : True','Actual : False'])\n",
    "print(\"Confusion Matrix : \\n\", cm)\n",
    "print(\"F1 score: {}\".format(f1score))\n",
    "print(\"Accuracy: {}\".format(acc))\n",
    "print(\"Area under the curve (auc): {}\".format(auc))"
   ]
  },
  {
   "cell_type": "markdown",
   "metadata": {
    "colab_type": "text",
    "id": "GiPGonTzQvoB"
   },
   "source": [
    "<font color='red'><b>C.</b></font> Compute the best threshold (similarly to ROC curve computation) of probability which gives lowest values of metric <b>A</b> for the given data <strong>5_c.csv</strong>\n",
    "<br>\n",
    "\n",
    "you will be predicting label of a data points like this: $y^{pred}= \\text{[0 if y_score < threshold  else 1]}$\n",
    "\n",
    "$ A = 500 \\times \\text{number of false negative} + 100 \\times \\text{numebr of false positive}$\n",
    "\n",
    "<pre>\n",
    "   <b>Note 1:</b> in this data you can see number of negative points > number of positive points\n",
    "   <b>Note 2:</b> use pandas or numpy to read the data from <b>5_c.csv</b>\n",
    "</pre>"
   ]
  },
  {
   "cell_type": "code",
   "execution_count": 12,
   "metadata": {},
   "outputs": [
    {
     "data": {
      "text/html": [
       "<div>\n",
       "<style scoped>\n",
       "    .dataframe tbody tr th:only-of-type {\n",
       "        vertical-align: middle;\n",
       "    }\n",
       "\n",
       "    .dataframe tbody tr th {\n",
       "        vertical-align: top;\n",
       "    }\n",
       "\n",
       "    .dataframe thead th {\n",
       "        text-align: right;\n",
       "    }\n",
       "</style>\n",
       "<table border=\"1\" class=\"dataframe\">\n",
       "  <thead>\n",
       "    <tr style=\"text-align: right;\">\n",
       "      <th></th>\n",
       "      <th>y</th>\n",
       "      <th>prob</th>\n",
       "    </tr>\n",
       "  </thead>\n",
       "  <tbody>\n",
       "    <tr>\n",
       "      <th>0</th>\n",
       "      <td>0</td>\n",
       "      <td>0.458521</td>\n",
       "    </tr>\n",
       "    <tr>\n",
       "      <th>1</th>\n",
       "      <td>0</td>\n",
       "      <td>0.505037</td>\n",
       "    </tr>\n",
       "    <tr>\n",
       "      <th>2</th>\n",
       "      <td>0</td>\n",
       "      <td>0.418652</td>\n",
       "    </tr>\n",
       "    <tr>\n",
       "      <th>3</th>\n",
       "      <td>0</td>\n",
       "      <td>0.412057</td>\n",
       "    </tr>\n",
       "    <tr>\n",
       "      <th>4</th>\n",
       "      <td>0</td>\n",
       "      <td>0.375579</td>\n",
       "    </tr>\n",
       "  </tbody>\n",
       "</table>\n",
       "</div>"
      ],
      "text/plain": [
       "   y      prob\n",
       "0  0  0.458521\n",
       "1  0  0.505037\n",
       "2  0  0.418652\n",
       "3  0  0.412057\n",
       "4  0  0.375579"
      ]
     },
     "execution_count": 12,
     "metadata": {},
     "output_type": "execute_result"
    }
   ],
   "source": [
    "data_5_c = pd.read_csv(r'D:\\appliedai\\AppliedAi/5_c.csv')\n",
    "data_5_c.head()"
   ]
  },
  {
   "cell_type": "code",
   "execution_count": 13,
   "metadata": {},
   "outputs": [],
   "source": [
    "def a_metric(FN,FP):\n",
    "    return ((500*FN)+(100*FP))\n",
    "\n",
    "def best_threshold_with_metric_a(y,yhat_prob):\n",
    "    A = []\n",
    "    thres = []\n",
    "    for threshold in np.arange(0,1,0.01):\n",
    "        yhat = yhat_prob.apply(lambda a : 1 if a > threshold else 0)\n",
    "        TP, TN, FP, FN = confusion_matrix(y, yhat)\n",
    "        A.append(a_metric(FN,FP))\n",
    "        thres.append(threshold)\n",
    "    return thres[A.index(min(A))]"
   ]
  },
  {
   "cell_type": "code",
   "execution_count": 14,
   "metadata": {},
   "outputs": [
    {
     "name": "stdout",
     "output_type": "stream",
     "text": [
      "Best threshold with lowest A_metric : 0.23\n"
     ]
    }
   ],
   "source": [
    "print(f\"Best threshold with lowest A_metric : {best_threshold_with_metric_a(data_5_c['y'], data_5_c['prob'])}\")"
   ]
  },
  {
   "cell_type": "markdown",
   "metadata": {
    "colab_type": "text",
    "id": "sD4CcgjXQvoL"
   },
   "source": [
    "<pre>\n",
    "<font color='red'><b>D.</b></font> Compute performance metrics(for regression) for the given data <strong>5_d.csv</strong>\n",
    "    <b>Note 2:</b> use pandas or numpy to read the data from <b>5_d.csv</b>\n",
    "    <b>Note 1:</b> <b>5_d.csv</b> will having two columns Y and predicted_Y both are real valued features\n",
    "<ol>\n",
    "<li> Compute Mean Square Error </li>\n",
    "<li> Compute MAPE: https://www.youtube.com/watch?v=ly6ztgIkUxk</li>\n",
    "<li> Compute R^2 error: https://en.wikipedia.org/wiki/Coefficient_of_determination#Definitions </li>\n",
    "</ol>\n",
    "</pre>"
   ]
  },
  {
   "cell_type": "code",
   "execution_count": 15,
   "metadata": {},
   "outputs": [
    {
     "data": {
      "text/html": [
       "<div>\n",
       "<style scoped>\n",
       "    .dataframe tbody tr th:only-of-type {\n",
       "        vertical-align: middle;\n",
       "    }\n",
       "\n",
       "    .dataframe tbody tr th {\n",
       "        vertical-align: top;\n",
       "    }\n",
       "\n",
       "    .dataframe thead th {\n",
       "        text-align: right;\n",
       "    }\n",
       "</style>\n",
       "<table border=\"1\" class=\"dataframe\">\n",
       "  <thead>\n",
       "    <tr style=\"text-align: right;\">\n",
       "      <th></th>\n",
       "      <th>y</th>\n",
       "      <th>pred</th>\n",
       "    </tr>\n",
       "  </thead>\n",
       "  <tbody>\n",
       "    <tr>\n",
       "      <th>0</th>\n",
       "      <td>101.0</td>\n",
       "      <td>100.0</td>\n",
       "    </tr>\n",
       "    <tr>\n",
       "      <th>1</th>\n",
       "      <td>120.0</td>\n",
       "      <td>100.0</td>\n",
       "    </tr>\n",
       "    <tr>\n",
       "      <th>2</th>\n",
       "      <td>131.0</td>\n",
       "      <td>113.0</td>\n",
       "    </tr>\n",
       "    <tr>\n",
       "      <th>3</th>\n",
       "      <td>164.0</td>\n",
       "      <td>125.0</td>\n",
       "    </tr>\n",
       "    <tr>\n",
       "      <th>4</th>\n",
       "      <td>154.0</td>\n",
       "      <td>152.0</td>\n",
       "    </tr>\n",
       "  </tbody>\n",
       "</table>\n",
       "</div>"
      ],
      "text/plain": [
       "       y   pred\n",
       "0  101.0  100.0\n",
       "1  120.0  100.0\n",
       "2  131.0  113.0\n",
       "3  164.0  125.0\n",
       "4  154.0  152.0"
      ]
     },
     "execution_count": 15,
     "metadata": {},
     "output_type": "execute_result"
    }
   ],
   "source": [
    "data_5_d = pd.read_csv(r'D:\\appliedai\\AppliedAi/5_d.csv')\n",
    "data_5_d.head()"
   ]
  },
  {
   "cell_type": "code",
   "execution_count": 16,
   "metadata": {},
   "outputs": [],
   "source": [
    "def mse(y,yhat):\n",
    "    return(np.mean((y-yhat)**2))\n",
    "\n",
    "def mape(y,yhat):\n",
    "    return(np.mean(np.abs((y-yhat)/y))*100)\n",
    "\n",
    "def r2(y,yhat):\n",
    "    return(1 - (np.sum((y-yhat)**2)/(np.sum((y-np.mean(y))**2))))"
   ]
  },
  {
   "cell_type": "code",
   "execution_count": 17,
   "metadata": {},
   "outputs": [
    {
     "name": "stdout",
     "output_type": "stream",
     "text": [
      "Mean square error : 177.16569974554707\n",
      "Mean absolute percentage error : inf\n",
      "R-square : 0.9563582786990937\n"
     ]
    }
   ],
   "source": [
    "print(f\"Mean square error : {mse(data_5_d['y'], data_5_d['pred'])}\")\n",
    "print(f\"Mean absolute percentage error : {mape(data_5_d['y'], data_5_d['pred'])}\")\n",
    "print(f\"R-square : {r2(data_5_d['y'], data_5_d['pred'])}\")"
   ]
  },
  {
   "cell_type": "code",
   "execution_count": null,
   "metadata": {},
   "outputs": [],
   "source": []
  }
 ],
 "metadata": {
  "colab": {
   "collapsed_sections": [],
   "name": "5_Performance_metrics_Instructions.ipynb",
   "provenance": [],
   "version": "0.3.2"
  },
  "kernelspec": {
   "display_name": "Python 3",
   "language": "python",
   "name": "python3"
  },
  "language_info": {
   "codemirror_mode": {
    "name": "ipython",
    "version": 3
   },
   "file_extension": ".py",
   "mimetype": "text/x-python",
   "name": "python",
   "nbconvert_exporter": "python",
   "pygments_lexer": "ipython3",
   "version": "3.7.3"
  }
 },
 "nbformat": 4,
 "nbformat_minor": 1
}
